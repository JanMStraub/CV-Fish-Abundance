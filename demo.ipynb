{
  "cells": [
    {
      "cell_type": "markdown",
      "metadata": {
        "id": "SPN4GsCpZC4W"
      },
      "source": [
        "# Preliminary\n"
      ]
    },
    {
      "cell_type": "markdown",
      "metadata": {
        "id": "BKNTf7L4b2z7"
      },
      "source": [
        "Here we install all imports and other necessary components.\n"
      ]
    },
    {
      "cell_type": "markdown",
      "metadata": {
        "id": "V1H3gELF5H9o"
      },
      "source": [
        "## Imports\n"
      ]
    },
    {
      "cell_type": "code",
      "execution_count": 2,
      "metadata": {
        "colab": {
          "base_uri": "https://localhost:8080/"
        },
        "id": "ccCEcC7sI89U",
        "outputId": "69ccc84a-99bf-439e-fe3d-3cf05d39cd9b"
      },
      "outputs": [
        {
          "name": "stdout",
          "output_type": "stream",
          "text": [
            "Requirement already satisfied: matplotlib>=3.2.2 in ./cv_project/lib/python3.10/site-packages (from -r requirements.txt (line 4)) (3.9.2)\n",
            "Requirement already satisfied: opencv-python>=4.1.1 in ./cv_project/lib/python3.10/site-packages (from -r requirements.txt (line 5)) (4.10.0.84)\n",
            "Collecting numpy<1.24.0,>=1.18.5 (from -r requirements.txt (line 6))\n",
            "  Downloading numpy-1.23.5-cp310-cp310-macosx_11_0_arm64.whl.metadata (2.3 kB)\n",
            "Requirement already satisfied: imageio in ./cv_project/lib/python3.10/site-packages (from -r requirements.txt (line 7)) (2.35.1)\n",
            "Requirement already satisfied: tqdm>=4.41.0 in ./cv_project/lib/python3.10/site-packages (from -r requirements.txt (line 8)) (4.66.5)\n",
            "Requirement already satisfied: pathlib in ./cv_project/lib/python3.10/site-packages (from -r requirements.txt (line 9)) (1.0.1)\n",
            "Collecting torch!=1.12.0,>=1.7.0 (from -r requirements.txt (line 10))\n",
            "  Downloading torch-2.4.1-cp310-none-macosx_11_0_arm64.whl.metadata (26 kB)\n",
            "Collecting torchvision!=0.13.0,>=0.8.1 (from -r requirements.txt (line 11))\n",
            "  Downloading torchvision-0.19.1-cp310-cp310-macosx_11_0_arm64.whl.metadata (6.0 kB)\n",
            "Requirement already satisfied: Pillow>=7.1.2 in ./cv_project/lib/python3.10/site-packages (from -r requirements.txt (line 12)) (10.4.0)\n",
            "Requirement already satisfied: PyYAML>=5.3.1 in ./cv_project/lib/python3.10/site-packages (from -r requirements.txt (line 13)) (6.0.2)\n",
            "Requirement already satisfied: requests>=2.23.0 in ./cv_project/lib/python3.10/site-packages (from -r requirements.txt (line 14)) (2.32.3)\n",
            "Requirement already satisfied: scipy>=1.4.1 in ./cv_project/lib/python3.10/site-packages (from -r requirements.txt (line 15)) (1.14.1)\n",
            "Requirement already satisfied: protobuf<4.21.3 in ./cv_project/lib/python3.10/site-packages (from -r requirements.txt (line 16)) (4.21.2)\n",
            "Requirement already satisfied: tensorboard>=2.4.1 in ./cv_project/lib/python3.10/site-packages (from -r requirements.txt (line 19)) (2.18.0)\n",
            "Requirement already satisfied: pandas>=1.1.4 in ./cv_project/lib/python3.10/site-packages (from -r requirements.txt (line 23)) (2.2.3)\n",
            "Requirement already satisfied: seaborn>=0.11.0 in ./cv_project/lib/python3.10/site-packages (from -r requirements.txt (line 24)) (0.13.2)\n",
            "Requirement already satisfied: ipython in ./cv_project/lib/python3.10/site-packages (from -r requirements.txt (line 36)) (8.28.0)\n",
            "Requirement already satisfied: psutil in ./cv_project/lib/python3.10/site-packages (from -r requirements.txt (line 37)) (6.0.0)\n",
            "Requirement already satisfied: thop in ./cv_project/lib/python3.10/site-packages (from -r requirements.txt (line 38)) (0.1.1.post2209072238)\n",
            "Requirement already satisfied: contourpy>=1.0.1 in ./cv_project/lib/python3.10/site-packages (from matplotlib>=3.2.2->-r requirements.txt (line 4)) (1.3.0)\n",
            "Requirement already satisfied: cycler>=0.10 in ./cv_project/lib/python3.10/site-packages (from matplotlib>=3.2.2->-r requirements.txt (line 4)) (0.12.1)\n",
            "Requirement already satisfied: fonttools>=4.22.0 in ./cv_project/lib/python3.10/site-packages (from matplotlib>=3.2.2->-r requirements.txt (line 4)) (4.54.1)\n",
            "Requirement already satisfied: kiwisolver>=1.3.1 in ./cv_project/lib/python3.10/site-packages (from matplotlib>=3.2.2->-r requirements.txt (line 4)) (1.4.7)\n",
            "Requirement already satisfied: packaging>=20.0 in ./cv_project/lib/python3.10/site-packages (from matplotlib>=3.2.2->-r requirements.txt (line 4)) (24.1)\n",
            "Requirement already satisfied: pyparsing>=2.3.1 in ./cv_project/lib/python3.10/site-packages (from matplotlib>=3.2.2->-r requirements.txt (line 4)) (3.1.4)\n",
            "Requirement already satisfied: python-dateutil>=2.7 in ./cv_project/lib/python3.10/site-packages (from matplotlib>=3.2.2->-r requirements.txt (line 4)) (2.9.0.post0)\n",
            "Requirement already satisfied: filelock in ./cv_project/lib/python3.10/site-packages (from torch!=1.12.0,>=1.7.0->-r requirements.txt (line 10)) (3.16.1)\n",
            "Requirement already satisfied: typing-extensions>=4.8.0 in ./cv_project/lib/python3.10/site-packages (from torch!=1.12.0,>=1.7.0->-r requirements.txt (line 10)) (4.12.2)\n",
            "Requirement already satisfied: sympy in ./cv_project/lib/python3.10/site-packages (from torch!=1.12.0,>=1.7.0->-r requirements.txt (line 10)) (1.13.3)\n",
            "Requirement already satisfied: networkx in ./cv_project/lib/python3.10/site-packages (from torch!=1.12.0,>=1.7.0->-r requirements.txt (line 10)) (3.3)\n",
            "Requirement already satisfied: jinja2 in ./cv_project/lib/python3.10/site-packages (from torch!=1.12.0,>=1.7.0->-r requirements.txt (line 10)) (3.1.4)\n",
            "Requirement already satisfied: fsspec in ./cv_project/lib/python3.10/site-packages (from torch!=1.12.0,>=1.7.0->-r requirements.txt (line 10)) (2024.9.0)\n",
            "Requirement already satisfied: charset-normalizer<4,>=2 in ./cv_project/lib/python3.10/site-packages (from requests>=2.23.0->-r requirements.txt (line 14)) (3.3.2)\n",
            "Requirement already satisfied: idna<4,>=2.5 in ./cv_project/lib/python3.10/site-packages (from requests>=2.23.0->-r requirements.txt (line 14)) (3.10)\n",
            "Requirement already satisfied: urllib3<3,>=1.21.1 in ./cv_project/lib/python3.10/site-packages (from requests>=2.23.0->-r requirements.txt (line 14)) (2.2.3)\n",
            "Requirement already satisfied: certifi>=2017.4.17 in ./cv_project/lib/python3.10/site-packages (from requests>=2.23.0->-r requirements.txt (line 14)) (2024.8.30)\n",
            "Requirement already satisfied: absl-py>=0.4 in ./cv_project/lib/python3.10/site-packages (from tensorboard>=2.4.1->-r requirements.txt (line 19)) (2.1.0)\n",
            "Requirement already satisfied: grpcio>=1.48.2 in ./cv_project/lib/python3.10/site-packages (from tensorboard>=2.4.1->-r requirements.txt (line 19)) (1.66.2)\n",
            "Requirement already satisfied: markdown>=2.6.8 in ./cv_project/lib/python3.10/site-packages (from tensorboard>=2.4.1->-r requirements.txt (line 19)) (3.7)\n",
            "Requirement already satisfied: setuptools>=41.0.0 in ./cv_project/lib/python3.10/site-packages (from tensorboard>=2.4.1->-r requirements.txt (line 19)) (58.1.0)\n",
            "Requirement already satisfied: six>1.9 in ./cv_project/lib/python3.10/site-packages (from tensorboard>=2.4.1->-r requirements.txt (line 19)) (1.16.0)\n",
            "Requirement already satisfied: tensorboard-data-server<0.8.0,>=0.7.0 in ./cv_project/lib/python3.10/site-packages (from tensorboard>=2.4.1->-r requirements.txt (line 19)) (0.7.2)\n",
            "Requirement already satisfied: werkzeug>=1.0.1 in ./cv_project/lib/python3.10/site-packages (from tensorboard>=2.4.1->-r requirements.txt (line 19)) (3.0.4)\n",
            "Requirement already satisfied: pytz>=2020.1 in ./cv_project/lib/python3.10/site-packages (from pandas>=1.1.4->-r requirements.txt (line 23)) (2024.2)\n",
            "Requirement already satisfied: tzdata>=2022.7 in ./cv_project/lib/python3.10/site-packages (from pandas>=1.1.4->-r requirements.txt (line 23)) (2024.2)\n",
            "Requirement already satisfied: decorator in ./cv_project/lib/python3.10/site-packages (from ipython->-r requirements.txt (line 36)) (5.1.1)\n",
            "Requirement already satisfied: jedi>=0.16 in ./cv_project/lib/python3.10/site-packages (from ipython->-r requirements.txt (line 36)) (0.19.1)\n",
            "Requirement already satisfied: matplotlib-inline in ./cv_project/lib/python3.10/site-packages (from ipython->-r requirements.txt (line 36)) (0.1.7)\n",
            "Requirement already satisfied: prompt-toolkit<3.1.0,>=3.0.41 in ./cv_project/lib/python3.10/site-packages (from ipython->-r requirements.txt (line 36)) (3.0.48)\n",
            "Requirement already satisfied: pygments>=2.4.0 in ./cv_project/lib/python3.10/site-packages (from ipython->-r requirements.txt (line 36)) (2.18.0)\n",
            "Requirement already satisfied: stack-data in ./cv_project/lib/python3.10/site-packages (from ipython->-r requirements.txt (line 36)) (0.6.3)\n",
            "Requirement already satisfied: traitlets>=5.13.0 in ./cv_project/lib/python3.10/site-packages (from ipython->-r requirements.txt (line 36)) (5.14.3)\n",
            "Requirement already satisfied: exceptiongroup in ./cv_project/lib/python3.10/site-packages (from ipython->-r requirements.txt (line 36)) (1.2.2)\n",
            "Requirement already satisfied: pexpect>4.3 in ./cv_project/lib/python3.10/site-packages (from ipython->-r requirements.txt (line 36)) (4.9.0)\n",
            "Requirement already satisfied: parso<0.9.0,>=0.8.3 in ./cv_project/lib/python3.10/site-packages (from jedi>=0.16->ipython->-r requirements.txt (line 36)) (0.8.4)\n",
            "Requirement already satisfied: ptyprocess>=0.5 in ./cv_project/lib/python3.10/site-packages (from pexpect>4.3->ipython->-r requirements.txt (line 36)) (0.7.0)\n",
            "Requirement already satisfied: wcwidth in ./cv_project/lib/python3.10/site-packages (from prompt-toolkit<3.1.0,>=3.0.41->ipython->-r requirements.txt (line 36)) (0.2.13)\n",
            "Requirement already satisfied: MarkupSafe>=2.1.1 in ./cv_project/lib/python3.10/site-packages (from werkzeug>=1.0.1->tensorboard>=2.4.1->-r requirements.txt (line 19)) (3.0.0)\n",
            "Requirement already satisfied: executing>=1.2.0 in ./cv_project/lib/python3.10/site-packages (from stack-data->ipython->-r requirements.txt (line 36)) (2.1.0)\n",
            "Requirement already satisfied: asttokens>=2.1.0 in ./cv_project/lib/python3.10/site-packages (from stack-data->ipython->-r requirements.txt (line 36)) (2.4.1)\n",
            "Requirement already satisfied: pure-eval in ./cv_project/lib/python3.10/site-packages (from stack-data->ipython->-r requirements.txt (line 36)) (0.2.3)\n",
            "Requirement already satisfied: mpmath<1.4,>=1.1.0 in ./cv_project/lib/python3.10/site-packages (from sympy->torch!=1.12.0,>=1.7.0->-r requirements.txt (line 10)) (1.3.0)\n",
            "Downloading numpy-1.23.5-cp310-cp310-macosx_11_0_arm64.whl (13.4 MB)\n",
            "\u001b[2K   \u001b[90m━━━━━━━━━━━━━━━━━━━━━━━━━━━━━━━━━━━━━━━━\u001b[0m \u001b[32m13.4/13.4 MB\u001b[0m \u001b[31m19.8 MB/s\u001b[0m eta \u001b[36m0:00:00\u001b[0ma \u001b[36m0:00:01\u001b[0m\n",
            "\u001b[?25hDownloading torch-2.4.1-cp310-none-macosx_11_0_arm64.whl (62.1 MB)\n",
            "\u001b[2K   \u001b[90m━━━━━━━━━━━━━━━━━━━━━━━━━━━━━━━━━━━━━━━━\u001b[0m \u001b[32m62.1/62.1 MB\u001b[0m \u001b[31m19.9 MB/s\u001b[0m eta \u001b[36m0:00:00\u001b[0m00:01\u001b[0m00:01\u001b[0m\n",
            "\u001b[?25hDownloading torchvision-0.19.1-cp310-cp310-macosx_11_0_arm64.whl (1.7 MB)\n",
            "\u001b[2K   \u001b[90m━━━━━━━━━━━━━━━━━━━━━━━━━━━━━━━━━━━━━━━━\u001b[0m \u001b[32m1.7/1.7 MB\u001b[0m \u001b[31m18.6 MB/s\u001b[0m eta \u001b[36m0:00:00\u001b[0m\n",
            "\u001b[?25hInstalling collected packages: numpy, torch, torchvision\n",
            "Successfully installed numpy-1.23.5 torch-2.4.1 torchvision-0.19.1\n",
            "fatal: destination path 'yolov7' already exists and is not an empty directory.\n"
          ]
        }
      ],
      "source": [
        "!pip install -r requirements.txt\n",
        "!git clone https://github.com/WongKinYiu/yolov7.git"
      ]
    },
    {
      "cell_type": "code",
      "execution_count": 3,
      "metadata": {},
      "outputs": [
        {
          "name": "stdout",
          "output_type": "stream",
          "text": [
            "/Users/jan/Documents/code/cv/project/yolov7\n"
          ]
        },
        {
          "name": "stderr",
          "output_type": "stream",
          "text": [
            "/Users/jan/Documents/code/cv/project/cv_project/lib/python3.10/site-packages/IPython/core/magics/osm.py:417: UserWarning: This is now an optional IPython functionality, setting dhist requires you to install the `pickleshare` library.\n",
            "  self.shell.db['dhist'] = compress_dhist(dhist)[-100:]\n"
          ]
        }
      ],
      "source": [
        "cd yolov7/"
      ]
    },
    {
      "cell_type": "code",
      "execution_count": 4,
      "metadata": {
        "colab": {
          "base_uri": "https://localhost:8080/"
        },
        "id": "vE2jk4zOmoPu",
        "outputId": "a9c5728a-4ed8-42a8-f8d6-a60268f21504"
      },
      "outputs": [],
      "source": [
        "import cv2\n",
        "import torch\n",
        "import numpy as np\n",
        "\n",
        "from IPython import display\n",
        "\n",
        "display.clear_output()\n",
        "\n",
        "from IPython.display import display\n",
        "from pathlib import Path\n",
        "from tqdm import tqdm"
      ]
    },
    {
      "cell_type": "markdown",
      "metadata": {
        "id": "R2Mn3ayM5PUR"
      },
      "source": [
        "## Directories and Configuration\n"
      ]
    },
    {
      "cell_type": "code",
      "execution_count": 5,
      "metadata": {
        "id": "RafB5uuaOSMK"
      },
      "outputs": [],
      "source": [
        "# Configuration Flags\n",
        "SAVE_ORIGINAL = False  # Flag to save original frames\n",
        "TRAIN = True  # Flag to switch between creating training images and creating validation images\n",
        "\n",
        "# Base directory setup\n",
        "BASE_DIR = Path(\"/Users/jan/Documents/code/cv/project\")\n",
        "\n",
        "# Training set directories\n",
        "VIDEO_DIR_IN = BASE_DIR / \"detect/video_in\"\n",
        "VIDEO_DIR_OUT = BASE_DIR / \"detect/video_out\"\n",
        "\n",
        "# Frame processing parameters\n",
        "FRAME_RESIZE = (640, 640)\n",
        "\n",
        "# Optical flow parameters\n",
        "FARNEBACK_PARAMS = {\n",
        "    \"pyr_scale\": 0.95,\n",
        "    \"levels\": 10,\n",
        "    \"winsize\": 15,\n",
        "    \"iterations\": 3,\n",
        "    \"poly_n\": 5,\n",
        "    \"poly_sigma\": 1.2,\n",
        "    \"flags\": 0,\n",
        "}\n",
        "\n",
        "# Opacity parameters\n",
        "OPACITY_FOREGROUND = 0.5\n",
        "OPACITY_OPTICAL_FLOW = 0.5"
      ]
    },
    {
      "cell_type": "markdown",
      "metadata": {
        "id": "QMR9UH9jPyNX"
      },
      "source": [
        "---\n"
      ]
    },
    {
      "cell_type": "markdown",
      "metadata": {
        "id": "1ymY_V2japXC"
      },
      "source": [
        "# Create training data\n"
      ]
    },
    {
      "cell_type": "code",
      "execution_count": 6,
      "metadata": {
        "id": "pMM9grDh0b5q"
      },
      "outputs": [],
      "source": [
        "def adjust_gamma(image, gamma=1.0):\n",
        "    \"\"\"\n",
        "    Adjusts the gamma of an image.\n",
        "\n",
        "    Args:\n",
        "        image (np.ndarray): Input image.\n",
        "        gamma (float): Gamma value to adjust (default is 1.0).\n",
        "\n",
        "    Returns:\n",
        "        np.ndarray: Gamma adjusted image.\n",
        "    \"\"\"\n",
        "    invGamma = 1.0 / gamma\n",
        "    table = np.array([(i / 255.0) ** invGamma * 255 for i in range(256)], dtype=\"uint8\")\n",
        "    return cv2.LUT(image, table)"
      ]
    },
    {
      "cell_type": "code",
      "execution_count": 7,
      "metadata": {},
      "outputs": [],
      "source": [
        "def apply_gmm(frame, foreground_detector):\n",
        "    \"\"\"\n",
        "    Applies GMM (Gaussian Mixture Model) to detect foreground objects in a frame.\n",
        "\n",
        "    Args:\n",
        "        frame (np.ndarray): Input frame.\n",
        "        foreground_detector (cv2.BackgroundSubtractorMOG2): Foreground detector.\n",
        "\n",
        "    Returns:\n",
        "        np.ndarray: Filtered foreground mask.\n",
        "    \"\"\"\n",
        "    foreground = foreground_detector.apply(frame)\n",
        "    filtered_foreground = cv2.morphologyEx(\n",
        "        foreground, cv2.MORPH_OPEN, cv2.getStructuringElement(cv2.MORPH_ELLIPSE, (3, 3))\n",
        "    )\n",
        "    filtered_foreground = cv2.morphologyEx(\n",
        "        filtered_foreground,\n",
        "        cv2.MORPH_CLOSE,\n",
        "        cv2.getStructuringElement(cv2.MORPH_ELLIPSE, (5, 5)),\n",
        "    )\n",
        "\n",
        "    # Shadow Removal: Convert shadows to binary foreground\n",
        "    _, filtered_foreground = cv2.threshold(\n",
        "        filtered_foreground, 127, 255, cv2.THRESH_BINARY\n",
        "    )\n",
        "\n",
        "    return filtered_foreground"
      ]
    },
    {
      "cell_type": "code",
      "execution_count": 8,
      "metadata": {},
      "outputs": [],
      "source": [
        "def apply_optical_flow(frame, prvs, hsv, farneback, frame_size):\n",
        "    \"\"\"\n",
        "    Computes optical flow using Farneback method and visualizes it in HSV space.\n",
        "\n",
        "    Args:\n",
        "        frame (np.ndarray): Input frame.\n",
        "        prvs (np.ndarray): Previous frame in grayscale.\n",
        "        hsv (np.ndarray): HSV image used for optical flow visualization.\n",
        "        farneback (dict): Parameters for the Farneback optical flow algorithm.\n",
        "        frame_size (tuple): Resized image size.\n",
        "\n",
        "    Returns:\n",
        "        tuple: Tuple containing resized BGR image of the flow and next grayscale frame.\n",
        "    \"\"\"\n",
        "    next_frame = cv2.cvtColor(frame, cv2.COLOR_BGR2GRAY)\n",
        "    flow = cv2.calcOpticalFlowFarneback(prvs, next_frame, None, **farneback)\n",
        "    mag, ang = cv2.cartToPolar(flow[..., 0], flow[..., 1])\n",
        "    hsv[..., 0] = ang * 180 / np.pi / 2\n",
        "    hsv[..., 2] = cv2.normalize(mag, None, 0, 255, cv2.NORM_MINMAX)\n",
        "    bgr = cv2.cvtColor(hsv, cv2.COLOR_HSV2BGR)\n",
        "    bgr_resized = cv2.resize(bgr, frame_size)\n",
        "\n",
        "    return bgr_resized, next_frame"
      ]
    },
    {
      "cell_type": "code",
      "execution_count": 9,
      "metadata": {},
      "outputs": [],
      "source": [
        "def apply_combination(\n",
        "    frame,\n",
        "    filtered_foreground,\n",
        "    bgr_resized,\n",
        "    opacity_foreground=0.5,\n",
        "    opacity_optical_flow=0.5,\n",
        "):\n",
        "    \"\"\"\n",
        "    Combines the results of GMM and optical flow with opacity blending, and saves the combined image and annotations.\n",
        "\n",
        "    Args:\n",
        "        frame (np.ndarray): Original frame.\n",
        "        filtered_foreground (np.ndarray): Foreground mask obtained from GMM.\n",
        "        bgr_resized (np.ndarray): Optical flow visualization in BGR format.\n",
        "        opacity_foreground (float): Opacity for filtered foreground mask (0 to 1).\n",
        "        opacity_optical_flow (float): Opacity for optical flow visualization (0 to 1).\n",
        "    \"\"\"\n",
        "\n",
        "    combined_frame = np.zeros_like(frame)\n",
        "    grayscale_frame = cv2.cvtColor(frame, cv2.COLOR_BGR2GRAY)\n",
        "    filtered_foreground_normalized = cv2.normalize(\n",
        "        filtered_foreground, None, 0, 255, cv2.NORM_MINMAX\n",
        "    )\n",
        "    blended_foreground = cv2.addWeighted(\n",
        "        grayscale_frame,\n",
        "        1 - opacity_foreground,\n",
        "        filtered_foreground_normalized,\n",
        "        opacity_foreground,\n",
        "        0,\n",
        "    )\n",
        "    blue_channel_optical_flow = bgr_resized[:, :, 0]\n",
        "    blended_optical_flow = cv2.addWeighted(\n",
        "        grayscale_frame,\n",
        "        1 - opacity_optical_flow,\n",
        "        blue_channel_optical_flow,\n",
        "        opacity_optical_flow,\n",
        "        0,\n",
        "    )\n",
        "\n",
        "    combined_frame[:, :, 0] = grayscale_frame  # Grayscale frame\n",
        "    combined_frame[:, :, 1] = blended_foreground  # filtered foreground\n",
        "    combined_frame[:, :, 2] = blended_optical_flow  # Blended optical flow\n",
        "    \n",
        "    return combined_frame"
      ]
    },
    {
      "cell_type": "code",
      "execution_count": 10,
      "metadata": {},
      "outputs": [],
      "source": [
        "def process_frame(\n",
        "    frame,\n",
        "    frame1,\n",
        "    frame_idx,\n",
        "    foreground_detector,\n",
        "    prvs,\n",
        "    hsv,\n",
        "    farneback,\n",
        "    frame_size,\n",
        "    opacity_foreground,\n",
        "    opacity_optical_flow,\n",
        "):\n",
        "    \"\"\"\n",
        "    Processes a single video frame by applying background subtraction (GMM) and optical flow,\n",
        "    and then combines the results. Optionally saves the original frame, and stores the combined\n",
        "    output along with ground truth annotations.\n",
        "\n",
        "    Args:\n",
        "        frame (numpy.ndarray): The current video frame after resizing and gamma adjustment.\n",
        "        frame1 (numpy.ndarray): The next video frame to compute optical flow.\n",
        "        frame_idx (int): The index of the current frame in the video.\n",
        "        foreground_detector (cv2.BackgroundSubtractor): Foreground detector based on GMM.\n",
        "        prvs (numpy.ndarray): The previous grayscale frame used for optical flow calculation.\n",
        "        hsv (numpy.ndarray): The HSV image used for visualizing optical flow.\n",
        "        farneback (dict): Parameters for the Farneback optical flow algorithm.\n",
        "        frame_size (tuple): Resized image size\n",
        "        opacity_foreground (float): Opacity for filtered foreground mask (0 to 1).\n",
        "        opacity_optical_flow (float): Opacity for optical flow visualization (0 to 1).\n",
        "\n",
        "    Returns:\n",
        "        next_frame (numpy.ndarray): The grayscale version of the current frame (frame1) for use in the next iteration of optical flow calculation.\n",
        "    \"\"\"\n",
        "\n",
        "    # Apply GMM to the frame to detect foreground objects\n",
        "    foreground = apply_gmm(frame, foreground_detector)\n",
        "\n",
        "    # Apply optical flow to the next frame\n",
        "    bgr, next_frame = apply_optical_flow(frame1, prvs, hsv, farneback, frame_size)\n",
        "\n",
        "    # Combine GMM and optical flow results and save the combined image\n",
        "    combined_frame = apply_combination(\n",
        "        frame,\n",
        "        foreground,\n",
        "        bgr,\n",
        "        opacity_foreground,\n",
        "        opacity_optical_flow,\n",
        "    )\n",
        "    \n",
        "    return next_frame, combined_frame"
      ]
    },
    {
      "cell_type": "code",
      "execution_count": 11,
      "metadata": {},
      "outputs": [],
      "source": [
        "\n",
        "def process_video(\n",
        "    video_path,\n",
        "    farneback,\n",
        "    frame_size,\n",
        "    out_dir,\n",
        "    opacity_foreground,\n",
        "    opacity_optical_flow,\n",
        "):\n",
        "    \"\"\"\n",
        "    Processes a video by applying background subtraction (using Gaussian Mixture Model), optical flow, and frame adjustments, and saves the processed frames and combined results along with ground truth annotations.\n",
        "\n",
        "    Args:\n",
        "        video_path (Path): Path to the input video file.\n",
        "        farneback (dict): Parameters for the Farneback optical flow algorithm.\n",
        "        frame_size (tuple): Resized image size (width, height).\n",
        "        out_dir (Path): Path to save the output video.\n",
        "        opacity_foreground (float): Opacity for filtered foreground mask (0 to 1).\n",
        "        opacity_optical_flow (float): Opacity for optical flow visualization (0 to 1).\n",
        "\n",
        "    Returns:\n",
        "        None: The function processes the video, saves results, and does not return anything.\n",
        "    \"\"\"\n",
        "    \n",
        "    model_path = \"/Users/jan/Documents/code/cv/project/yolo_files/best.pt\"\n",
        "    # Load YOLOv7 model\n",
        "    model = torch.load(model_path, map_location=torch.device('cpu'))\n",
        "\n",
        "    video_name_short = video_path.stem[-15:]\n",
        "    output_path = out_dir / (video_name_short + \".mp4\")\n",
        "\n",
        "    # Open the video file\n",
        "    cap = cv2.VideoCapture(str(video_path))\n",
        "    if not cap.isOpened():\n",
        "        print(f\"Error: Could not open video file: {video_path}\")\n",
        "        return\n",
        "\n",
        "    total_frames = int(cap.get(cv2.CAP_PROP_FRAME_COUNT))\n",
        "    fps = cap.get(cv2.CAP_PROP_FPS) or 30  # Default to 30 if FPS is invalid\n",
        "\n",
        "    foreground_detector = cv2.createBackgroundSubtractorMOG2(\n",
        "        history=250, varThreshold=16, detectShadows=True\n",
        "    )\n",
        "\n",
        "    fourcc = cv2.VideoWriter_fourcc(*\"mp4v\")\n",
        "    out = cv2.VideoWriter(output_path, fourcc, fps, (frame_size[0], frame_size[1]))\n",
        "\n",
        "    if not out.isOpened():\n",
        "        print(\"Error: Could not open VideoWriter.\")\n",
        "        cap.release()\n",
        "        return\n",
        "\n",
        "    try:\n",
        "        ret, frame1 = cap.read()\n",
        "        if not ret:\n",
        "            print(f\"Failed to read the video file: {video_name_short}\")\n",
        "            return\n",
        "\n",
        "        # Convert first frame to grayscale for optical flow\n",
        "        prvs = cv2.cvtColor(frame1, cv2.COLOR_BGR2GRAY)\n",
        "        hsv = np.zeros_like(frame1)\n",
        "        hsv[..., 1] = 255\n",
        "\n",
        "        frame_idx = 0\n",
        "\n",
        "        # Process each frame of the video\n",
        "        with tqdm(\n",
        "            total=total_frames, desc=f\"Processing {video_name_short}\"\n",
        "        ) as video_pbar:\n",
        "            while ret:\n",
        "                # Resize and adjust gamma for the current frame\n",
        "                frame = cv2.resize(frame1, frame_size)\n",
        "                original_resized_frame = frame\n",
        "                frame = adjust_gamma(frame, 1.5)\n",
        "                frame_blurred = cv2.GaussianBlur(frame, (5, 5), 0)\n",
        "\n",
        "                # Process the current frame (optical flow and foreground detection)\n",
        "                next_frame, combined_frame = process_frame(\n",
        "                    frame_blurred,\n",
        "                    frame1,\n",
        "                    frame_idx,\n",
        "                    foreground_detector,\n",
        "                    prvs,\n",
        "                    hsv,\n",
        "                    farneback,\n",
        "                    frame_size,\n",
        "                    opacity_foreground,\n",
        "                    opacity_optical_flow,\n",
        "                )\n",
        "                \n",
        "                results = model(combined_frame)\n",
        "\n",
        "                # Draw bounding boxes and labels on the frame\n",
        "                labels, cords = results.xyxyn[0][:, -1], results.xyxyn[0][:, :-1]\n",
        "\n",
        "                n = len(labels)\n",
        "                for i in range(n):\n",
        "                    row = cords[i]\n",
        "                    if row[4] >= 0.5:  # Confidence threshold\n",
        "                        x1, y1, x2, y2 = int(row[0] * original_resized_frame.shape[1]), int(row[1] * original_resized_frame.shape[0]), \\\n",
        "                                        int(row[2] * original_resized_frame.shape[1]), int(row[3] * original_resized_frame.shape[0])\n",
        "                        # Draw a rectangle around the object\n",
        "                        cv2.rectangle(original_resized_frame, (x1, y1), (x2, y2), (0, 255, 0), 2)\n",
        "\n",
        "                        # Put label on the detected object\n",
        "                        label = f'{model.names[int(labels[i])]}: {row[4]:.2f}'\n",
        "                        cv2.putText(original_resized_frame, label, (x1, y1 - 10), cv2.FONT_HERSHEY_SIMPLEX, 0.9, (255, 0, 0), 2)\n",
        "\n",
        "                # Update progress bar and move to next frame\n",
        "                video_pbar.update(1)\n",
        "                prvs = next_frame\n",
        "                ret, frame1 = cap.read()\n",
        "                frame_idx += 1\n",
        "\n",
        "                # Write the processed frame to the output video\n",
        "                out.write(original_resized_frame)\n",
        "                \n",
        "    except Exception as e:\n",
        "        print(f\"Error processing video{e}\")\n",
        "        \n",
        "    finally:\n",
        "\n",
        "        # Release video capture and writer resources\n",
        "        cap.release()\n",
        "        out.release()\n",
        "        cv2.destroyAllWindows()"
      ]
    },
    {
      "cell_type": "code",
      "execution_count": 12,
      "metadata": {},
      "outputs": [
        {
          "name": "stderr",
          "output_type": "stream",
          "text": [
            "/var/folders/zx/mpybchks7d5gzpvrvdhnl81r0000gn/T/ipykernel_7745/2420086932.py:26: FutureWarning: You are using `torch.load` with `weights_only=False` (the current default value), which uses the default pickle module implicitly. It is possible to construct malicious pickle data which will execute arbitrary code during unpickling (See https://github.com/pytorch/pytorch/blob/main/SECURITY.md#untrusted-models for more details). In a future release, the default value for `weights_only` will be flipped to `True`. This limits the functions that could be executed during unpickling. Arbitrary objects will no longer be allowed to be loaded via this mode unless they are explicitly allowlisted by the user via `torch.serialization.add_safe_globals`. We recommend you start setting `weights_only=True` for any use case where you don't have full control of the loaded file. Please open an issue on GitHub for any issues related to this experimental feature.\n",
            "  model = torch.load(model_path, map_location=torch.device('cpu'))\n"
          ]
        },
        {
          "ename": "ModuleNotFoundError",
          "evalue": "No module named 'numpy._core'",
          "output_type": "error",
          "traceback": [
            "\u001b[0;31m---------------------------------------------------------------------------\u001b[0m",
            "\u001b[0;31mModuleNotFoundError\u001b[0m                       Traceback (most recent call last)",
            "Cell \u001b[0;32mIn[12], line 8\u001b[0m\n\u001b[1;32m      5\u001b[0m video_files \u001b[38;5;241m=\u001b[39m \u001b[38;5;28mlist\u001b[39m(VIDEO_DIR_IN\u001b[38;5;241m.\u001b[39mglob(\u001b[38;5;124m\"\u001b[39m\u001b[38;5;124m*.flv\u001b[39m\u001b[38;5;124m\"\u001b[39m))\n\u001b[1;32m      7\u001b[0m \u001b[38;5;28;01mfor\u001b[39;00m video \u001b[38;5;129;01min\u001b[39;00m video_files:\n\u001b[0;32m----> 8\u001b[0m     \u001b[43mprocess_video\u001b[49m\u001b[43m(\u001b[49m\n\u001b[1;32m      9\u001b[0m \u001b[43m        \u001b[49m\u001b[43mvideo\u001b[49m\u001b[43m,\u001b[49m\n\u001b[1;32m     10\u001b[0m \u001b[43m        \u001b[49m\u001b[43mFARNEBACK_PARAMS\u001b[49m\u001b[43m,\u001b[49m\n\u001b[1;32m     11\u001b[0m \u001b[43m        \u001b[49m\u001b[43mFRAME_RESIZE\u001b[49m\u001b[43m,\u001b[49m\n\u001b[1;32m     12\u001b[0m \u001b[43m        \u001b[49m\u001b[43mVIDEO_DIR_OUT\u001b[49m\u001b[43m,\u001b[49m\n\u001b[1;32m     13\u001b[0m \u001b[43m        \u001b[49m\u001b[43mOPACITY_FOREGROUND\u001b[49m\u001b[43m,\u001b[49m\n\u001b[1;32m     14\u001b[0m \u001b[43m        \u001b[49m\u001b[43mOPACITY_OPTICAL_FLOW\u001b[49m\u001b[43m,\u001b[49m\n\u001b[1;32m     15\u001b[0m \u001b[43m    \u001b[49m\u001b[43m)\u001b[49m\n",
            "Cell \u001b[0;32mIn[11], line 26\u001b[0m, in \u001b[0;36mprocess_video\u001b[0;34m(video_path, farneback, frame_size, out_dir, opacity_foreground, opacity_optical_flow)\u001b[0m\n\u001b[1;32m     24\u001b[0m model_path \u001b[38;5;241m=\u001b[39m \u001b[38;5;124m\"\u001b[39m\u001b[38;5;124m/Users/jan/Documents/code/cv/project/yolo_files/best.pt\u001b[39m\u001b[38;5;124m\"\u001b[39m\n\u001b[1;32m     25\u001b[0m \u001b[38;5;66;03m# Load YOLOv7 model\u001b[39;00m\n\u001b[0;32m---> 26\u001b[0m model \u001b[38;5;241m=\u001b[39m \u001b[43mtorch\u001b[49m\u001b[38;5;241;43m.\u001b[39;49m\u001b[43mload\u001b[49m\u001b[43m(\u001b[49m\u001b[43mmodel_path\u001b[49m\u001b[43m,\u001b[49m\u001b[43m \u001b[49m\u001b[43mmap_location\u001b[49m\u001b[38;5;241;43m=\u001b[39;49m\u001b[43mtorch\u001b[49m\u001b[38;5;241;43m.\u001b[39;49m\u001b[43mdevice\u001b[49m\u001b[43m(\u001b[49m\u001b[38;5;124;43m'\u001b[39;49m\u001b[38;5;124;43mcpu\u001b[39;49m\u001b[38;5;124;43m'\u001b[39;49m\u001b[43m)\u001b[49m\u001b[43m)\u001b[49m\n\u001b[1;32m     28\u001b[0m video_name_short \u001b[38;5;241m=\u001b[39m video_path\u001b[38;5;241m.\u001b[39mstem[\u001b[38;5;241m-\u001b[39m\u001b[38;5;241m15\u001b[39m:]\n\u001b[1;32m     29\u001b[0m output_path \u001b[38;5;241m=\u001b[39m out_dir \u001b[38;5;241m/\u001b[39m (video_name_short \u001b[38;5;241m+\u001b[39m \u001b[38;5;124m\"\u001b[39m\u001b[38;5;124m.mp4\u001b[39m\u001b[38;5;124m\"\u001b[39m)\n",
            "File \u001b[0;32m~/Documents/code/cv/project/cv_project/lib/python3.10/site-packages/torch/serialization.py:1097\u001b[0m, in \u001b[0;36mload\u001b[0;34m(f, map_location, pickle_module, weights_only, mmap, **pickle_load_args)\u001b[0m\n\u001b[1;32m   1095\u001b[0m             \u001b[38;5;28;01mexcept\u001b[39;00m \u001b[38;5;167;01mRuntimeError\u001b[39;00m \u001b[38;5;28;01mas\u001b[39;00m e:\n\u001b[1;32m   1096\u001b[0m                 \u001b[38;5;28;01mraise\u001b[39;00m pickle\u001b[38;5;241m.\u001b[39mUnpicklingError(_get_wo_message(\u001b[38;5;28mstr\u001b[39m(e))) \u001b[38;5;28;01mfrom\u001b[39;00m \u001b[38;5;28;01mNone\u001b[39;00m\n\u001b[0;32m-> 1097\u001b[0m         \u001b[38;5;28;01mreturn\u001b[39;00m \u001b[43m_load\u001b[49m\u001b[43m(\u001b[49m\n\u001b[1;32m   1098\u001b[0m \u001b[43m            \u001b[49m\u001b[43mopened_zipfile\u001b[49m\u001b[43m,\u001b[49m\n\u001b[1;32m   1099\u001b[0m \u001b[43m            \u001b[49m\u001b[43mmap_location\u001b[49m\u001b[43m,\u001b[49m\n\u001b[1;32m   1100\u001b[0m \u001b[43m            \u001b[49m\u001b[43mpickle_module\u001b[49m\u001b[43m,\u001b[49m\n\u001b[1;32m   1101\u001b[0m \u001b[43m            \u001b[49m\u001b[43moverall_storage\u001b[49m\u001b[38;5;241;43m=\u001b[39;49m\u001b[43moverall_storage\u001b[49m\u001b[43m,\u001b[49m\n\u001b[1;32m   1102\u001b[0m \u001b[43m            \u001b[49m\u001b[38;5;241;43m*\u001b[39;49m\u001b[38;5;241;43m*\u001b[39;49m\u001b[43mpickle_load_args\u001b[49m\u001b[43m,\u001b[49m\n\u001b[1;32m   1103\u001b[0m \u001b[43m        \u001b[49m\u001b[43m)\u001b[49m\n\u001b[1;32m   1104\u001b[0m \u001b[38;5;28;01mif\u001b[39;00m mmap:\n\u001b[1;32m   1105\u001b[0m     f_name \u001b[38;5;241m=\u001b[39m \u001b[38;5;124m\"\u001b[39m\u001b[38;5;124m\"\u001b[39m \u001b[38;5;28;01mif\u001b[39;00m \u001b[38;5;129;01mnot\u001b[39;00m \u001b[38;5;28misinstance\u001b[39m(f, \u001b[38;5;28mstr\u001b[39m) \u001b[38;5;28;01melse\u001b[39;00m \u001b[38;5;124mf\u001b[39m\u001b[38;5;124m\"\u001b[39m\u001b[38;5;132;01m{\u001b[39;00mf\u001b[38;5;132;01m}\u001b[39;00m\u001b[38;5;124m, \u001b[39m\u001b[38;5;124m\"\u001b[39m\n",
            "File \u001b[0;32m~/Documents/code/cv/project/cv_project/lib/python3.10/site-packages/torch/serialization.py:1525\u001b[0m, in \u001b[0;36m_load\u001b[0;34m(zip_file, map_location, pickle_module, pickle_file, overall_storage, **pickle_load_args)\u001b[0m\n\u001b[1;32m   1522\u001b[0m \u001b[38;5;66;03m# Needed for tensors where storage device and rebuild tensor device are\u001b[39;00m\n\u001b[1;32m   1523\u001b[0m \u001b[38;5;66;03m# not connected (wrapper subclasses and tensors rebuilt using numpy)\u001b[39;00m\n\u001b[1;32m   1524\u001b[0m torch\u001b[38;5;241m.\u001b[39m_utils\u001b[38;5;241m.\u001b[39m_thread_local_state\u001b[38;5;241m.\u001b[39mmap_location \u001b[38;5;241m=\u001b[39m map_location\n\u001b[0;32m-> 1525\u001b[0m result \u001b[38;5;241m=\u001b[39m \u001b[43munpickler\u001b[49m\u001b[38;5;241;43m.\u001b[39;49m\u001b[43mload\u001b[49m\u001b[43m(\u001b[49m\u001b[43m)\u001b[49m\n\u001b[1;32m   1526\u001b[0m \u001b[38;5;28;01mdel\u001b[39;00m torch\u001b[38;5;241m.\u001b[39m_utils\u001b[38;5;241m.\u001b[39m_thread_local_state\u001b[38;5;241m.\u001b[39mmap_location\n\u001b[1;32m   1528\u001b[0m torch\u001b[38;5;241m.\u001b[39m_utils\u001b[38;5;241m.\u001b[39m_validate_loaded_sparse_tensors()\n",
            "File \u001b[0;32m~/Documents/code/cv/project/cv_project/lib/python3.10/site-packages/torch/serialization.py:1515\u001b[0m, in \u001b[0;36m_load.<locals>.UnpicklerWrapper.find_class\u001b[0;34m(self, mod_name, name)\u001b[0m\n\u001b[1;32m   1513\u001b[0m         \u001b[38;5;28;01mpass\u001b[39;00m\n\u001b[1;32m   1514\u001b[0m mod_name \u001b[38;5;241m=\u001b[39m load_module_mapping\u001b[38;5;241m.\u001b[39mget(mod_name, mod_name)\n\u001b[0;32m-> 1515\u001b[0m \u001b[38;5;28;01mreturn\u001b[39;00m \u001b[38;5;28;43msuper\u001b[39;49m\u001b[43m(\u001b[49m\u001b[43m)\u001b[49m\u001b[38;5;241;43m.\u001b[39;49m\u001b[43mfind_class\u001b[49m\u001b[43m(\u001b[49m\u001b[43mmod_name\u001b[49m\u001b[43m,\u001b[49m\u001b[43m \u001b[49m\u001b[43mname\u001b[49m\u001b[43m)\u001b[49m\n",
            "\u001b[0;31mModuleNotFoundError\u001b[0m: No module named 'numpy._core'"
          ]
        }
      ],
      "source": [
        "\"\"\"\n",
        "Main entry point of the script. Processes either training or test videos.\n",
        "\"\"\"\n",
        "\n",
        "video_files = list(VIDEO_DIR_IN.glob(\"*.flv\"))\n",
        "\n",
        "for video in video_files:\n",
        "    process_video(\n",
        "        video,\n",
        "        FARNEBACK_PARAMS,\n",
        "        FRAME_RESIZE,\n",
        "        VIDEO_DIR_OUT,\n",
        "        OPACITY_FOREGROUND,\n",
        "        OPACITY_OPTICAL_FLOW,\n",
        "    )"
      ]
    },
    {
      "cell_type": "markdown",
      "metadata": {
        "id": "bw6y7yDLPvRZ"
      },
      "source": [
        "---\n"
      ]
    }
  ],
  "metadata": {
    "colab": {
      "collapsed_sections": [
        "SPN4GsCpZC4W",
        "BOgY7NnkQO4S",
        "bB9eG7qbV6jl",
        "hfFX_FAOYTQt",
        "xdYij-suZLWQ",
        "xPNG9tgHZa18",
        "3NNPM9OqZoGw",
        "2GFUTgDpZwlJ"
      ],
      "provenance": []
    },
    "kernelspec": {
      "display_name": "cv_project",
      "language": "python",
      "name": "python3"
    },
    "language_info": {
      "codemirror_mode": {
        "name": "ipython",
        "version": 3
      },
      "file_extension": ".py",
      "mimetype": "text/x-python",
      "name": "python",
      "nbconvert_exporter": "python",
      "pygments_lexer": "ipython3",
      "version": "3.10.1"
    }
  },
  "nbformat": 4,
  "nbformat_minor": 0
}
