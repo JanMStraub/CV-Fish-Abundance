{
  "cells": [
    {
      "cell_type": "markdown",
      "metadata": {
        "id": "SPN4GsCpZC4W"
      },
      "source": [
        "# Preliminary\n"
      ]
    },
    {
      "cell_type": "markdown",
      "metadata": {
        "id": "BKNTf7L4b2z7"
      },
      "source": [
        "In this section, we install and import all the necessary libraries and components required for the project. Additionally, we define the directory paths and configuration flags to ensure proper file handling and smooth execution of the pipeline.\n"
      ]
    },
    {
      "cell_type": "markdown",
      "metadata": {
        "id": "V1H3gELF5H9o"
      },
      "source": [
        "## Imports\n"
      ]
    },
    {
      "cell_type": "code",
      "execution_count": 1,
      "metadata": {
        "colab": {
          "base_uri": "https://localhost:8080/"
        },
        "id": "ccCEcC7sI89U",
        "outputId": "69ccc84a-99bf-439e-fe3d-3cf05d39cd9b"
      },
      "outputs": [
        {
          "name": "stdout",
          "output_type": "stream",
          "text": [
            "Requirement already satisfied: matplotlib>=3.2.2 in ./cv_project/lib/python3.10/site-packages (from -r requirements.txt (line 4)) (3.9.2)\n",
            "Requirement already satisfied: opencv-python>=4.1.1 in ./cv_project/lib/python3.10/site-packages (from -r requirements.txt (line 5)) (4.10.0.84)\n",
            "Requirement already satisfied: numpy<1.24.0,>=1.18.5 in ./cv_project/lib/python3.10/site-packages (from -r requirements.txt (line 6)) (1.23.5)\n",
            "Requirement already satisfied: imageio in ./cv_project/lib/python3.10/site-packages (from -r requirements.txt (line 7)) (2.35.1)\n",
            "Requirement already satisfied: tqdm>=4.41.0 in ./cv_project/lib/python3.10/site-packages (from -r requirements.txt (line 8)) (4.66.5)\n",
            "Requirement already satisfied: pathlib in ./cv_project/lib/python3.10/site-packages (from -r requirements.txt (line 9)) (1.0.1)\n",
            "Requirement already satisfied: torch!=1.12.0,>=1.7.0 in ./cv_project/lib/python3.10/site-packages (from -r requirements.txt (line 10)) (2.4.1)\n",
            "Requirement already satisfied: torchvision!=0.13.0,>=0.8.1 in ./cv_project/lib/python3.10/site-packages (from -r requirements.txt (line 11)) (0.19.1)\n",
            "Requirement already satisfied: Pillow>=7.1.2 in ./cv_project/lib/python3.10/site-packages (from -r requirements.txt (line 12)) (10.4.0)\n",
            "Requirement already satisfied: PyYAML>=5.3.1 in ./cv_project/lib/python3.10/site-packages (from -r requirements.txt (line 13)) (6.0.2)\n",
            "Requirement already satisfied: requests>=2.23.0 in ./cv_project/lib/python3.10/site-packages (from -r requirements.txt (line 14)) (2.32.3)\n",
            "Requirement already satisfied: scipy>=1.4.1 in ./cv_project/lib/python3.10/site-packages (from -r requirements.txt (line 15)) (1.14.1)\n",
            "Requirement already satisfied: protobuf<4.21.3 in ./cv_project/lib/python3.10/site-packages (from -r requirements.txt (line 16)) (4.21.2)\n",
            "Requirement already satisfied: tensorboard>=2.4.1 in ./cv_project/lib/python3.10/site-packages (from -r requirements.txt (line 19)) (2.18.0)\n",
            "Requirement already satisfied: pandas>=1.1.4 in ./cv_project/lib/python3.10/site-packages (from -r requirements.txt (line 23)) (2.2.3)\n",
            "Requirement already satisfied: seaborn>=0.11.0 in ./cv_project/lib/python3.10/site-packages (from -r requirements.txt (line 24)) (0.13.2)\n",
            "Requirement already satisfied: ipython in ./cv_project/lib/python3.10/site-packages (from -r requirements.txt (line 36)) (8.28.0)\n",
            "Requirement already satisfied: psutil in ./cv_project/lib/python3.10/site-packages (from -r requirements.txt (line 37)) (6.0.0)\n",
            "Requirement already satisfied: thop in ./cv_project/lib/python3.10/site-packages (from -r requirements.txt (line 38)) (0.1.1.post2209072238)\n",
            "Requirement already satisfied: contourpy>=1.0.1 in ./cv_project/lib/python3.10/site-packages (from matplotlib>=3.2.2->-r requirements.txt (line 4)) (1.3.0)\n",
            "Requirement already satisfied: cycler>=0.10 in ./cv_project/lib/python3.10/site-packages (from matplotlib>=3.2.2->-r requirements.txt (line 4)) (0.12.1)\n",
            "Requirement already satisfied: fonttools>=4.22.0 in ./cv_project/lib/python3.10/site-packages (from matplotlib>=3.2.2->-r requirements.txt (line 4)) (4.54.1)\n",
            "Requirement already satisfied: kiwisolver>=1.3.1 in ./cv_project/lib/python3.10/site-packages (from matplotlib>=3.2.2->-r requirements.txt (line 4)) (1.4.7)\n",
            "Requirement already satisfied: packaging>=20.0 in ./cv_project/lib/python3.10/site-packages (from matplotlib>=3.2.2->-r requirements.txt (line 4)) (24.1)\n",
            "Requirement already satisfied: pyparsing>=2.3.1 in ./cv_project/lib/python3.10/site-packages (from matplotlib>=3.2.2->-r requirements.txt (line 4)) (3.1.4)\n",
            "Requirement already satisfied: python-dateutil>=2.7 in ./cv_project/lib/python3.10/site-packages (from matplotlib>=3.2.2->-r requirements.txt (line 4)) (2.9.0.post0)\n",
            "Requirement already satisfied: filelock in ./cv_project/lib/python3.10/site-packages (from torch!=1.12.0,>=1.7.0->-r requirements.txt (line 10)) (3.16.1)\n",
            "Requirement already satisfied: typing-extensions>=4.8.0 in ./cv_project/lib/python3.10/site-packages (from torch!=1.12.0,>=1.7.0->-r requirements.txt (line 10)) (4.12.2)\n",
            "Requirement already satisfied: sympy in ./cv_project/lib/python3.10/site-packages (from torch!=1.12.0,>=1.7.0->-r requirements.txt (line 10)) (1.13.3)\n",
            "Requirement already satisfied: networkx in ./cv_project/lib/python3.10/site-packages (from torch!=1.12.0,>=1.7.0->-r requirements.txt (line 10)) (3.3)\n",
            "Requirement already satisfied: jinja2 in ./cv_project/lib/python3.10/site-packages (from torch!=1.12.0,>=1.7.0->-r requirements.txt (line 10)) (3.1.4)\n",
            "Requirement already satisfied: fsspec in ./cv_project/lib/python3.10/site-packages (from torch!=1.12.0,>=1.7.0->-r requirements.txt (line 10)) (2024.9.0)\n",
            "Requirement already satisfied: charset-normalizer<4,>=2 in ./cv_project/lib/python3.10/site-packages (from requests>=2.23.0->-r requirements.txt (line 14)) (3.3.2)\n",
            "Requirement already satisfied: idna<4,>=2.5 in ./cv_project/lib/python3.10/site-packages (from requests>=2.23.0->-r requirements.txt (line 14)) (3.10)\n",
            "Requirement already satisfied: urllib3<3,>=1.21.1 in ./cv_project/lib/python3.10/site-packages (from requests>=2.23.0->-r requirements.txt (line 14)) (2.2.3)\n",
            "Requirement already satisfied: certifi>=2017.4.17 in ./cv_project/lib/python3.10/site-packages (from requests>=2.23.0->-r requirements.txt (line 14)) (2024.8.30)\n",
            "Requirement already satisfied: absl-py>=0.4 in ./cv_project/lib/python3.10/site-packages (from tensorboard>=2.4.1->-r requirements.txt (line 19)) (2.1.0)\n",
            "Requirement already satisfied: grpcio>=1.48.2 in ./cv_project/lib/python3.10/site-packages (from tensorboard>=2.4.1->-r requirements.txt (line 19)) (1.66.2)\n",
            "Requirement already satisfied: markdown>=2.6.8 in ./cv_project/lib/python3.10/site-packages (from tensorboard>=2.4.1->-r requirements.txt (line 19)) (3.7)\n",
            "Requirement already satisfied: setuptools>=41.0.0 in ./cv_project/lib/python3.10/site-packages (from tensorboard>=2.4.1->-r requirements.txt (line 19)) (58.1.0)\n",
            "Requirement already satisfied: six>1.9 in ./cv_project/lib/python3.10/site-packages (from tensorboard>=2.4.1->-r requirements.txt (line 19)) (1.16.0)\n",
            "Requirement already satisfied: tensorboard-data-server<0.8.0,>=0.7.0 in ./cv_project/lib/python3.10/site-packages (from tensorboard>=2.4.1->-r requirements.txt (line 19)) (0.7.2)\n",
            "Requirement already satisfied: werkzeug>=1.0.1 in ./cv_project/lib/python3.10/site-packages (from tensorboard>=2.4.1->-r requirements.txt (line 19)) (3.0.4)\n",
            "Requirement already satisfied: pytz>=2020.1 in ./cv_project/lib/python3.10/site-packages (from pandas>=1.1.4->-r requirements.txt (line 23)) (2024.2)\n",
            "Requirement already satisfied: tzdata>=2022.7 in ./cv_project/lib/python3.10/site-packages (from pandas>=1.1.4->-r requirements.txt (line 23)) (2024.2)\n",
            "Requirement already satisfied: decorator in ./cv_project/lib/python3.10/site-packages (from ipython->-r requirements.txt (line 36)) (5.1.1)\n",
            "Requirement already satisfied: jedi>=0.16 in ./cv_project/lib/python3.10/site-packages (from ipython->-r requirements.txt (line 36)) (0.19.1)\n",
            "Requirement already satisfied: matplotlib-inline in ./cv_project/lib/python3.10/site-packages (from ipython->-r requirements.txt (line 36)) (0.1.7)\n",
            "Requirement already satisfied: prompt-toolkit<3.1.0,>=3.0.41 in ./cv_project/lib/python3.10/site-packages (from ipython->-r requirements.txt (line 36)) (3.0.48)\n",
            "Requirement already satisfied: pygments>=2.4.0 in ./cv_project/lib/python3.10/site-packages (from ipython->-r requirements.txt (line 36)) (2.18.0)\n",
            "Requirement already satisfied: stack-data in ./cv_project/lib/python3.10/site-packages (from ipython->-r requirements.txt (line 36)) (0.6.3)\n",
            "Requirement already satisfied: traitlets>=5.13.0 in ./cv_project/lib/python3.10/site-packages (from ipython->-r requirements.txt (line 36)) (5.14.3)\n",
            "Requirement already satisfied: exceptiongroup in ./cv_project/lib/python3.10/site-packages (from ipython->-r requirements.txt (line 36)) (1.2.2)\n",
            "Requirement already satisfied: pexpect>4.3 in ./cv_project/lib/python3.10/site-packages (from ipython->-r requirements.txt (line 36)) (4.9.0)\n",
            "Requirement already satisfied: parso<0.9.0,>=0.8.3 in ./cv_project/lib/python3.10/site-packages (from jedi>=0.16->ipython->-r requirements.txt (line 36)) (0.8.4)\n",
            "Requirement already satisfied: ptyprocess>=0.5 in ./cv_project/lib/python3.10/site-packages (from pexpect>4.3->ipython->-r requirements.txt (line 36)) (0.7.0)\n",
            "Requirement already satisfied: wcwidth in ./cv_project/lib/python3.10/site-packages (from prompt-toolkit<3.1.0,>=3.0.41->ipython->-r requirements.txt (line 36)) (0.2.13)\n",
            "Requirement already satisfied: MarkupSafe>=2.1.1 in ./cv_project/lib/python3.10/site-packages (from werkzeug>=1.0.1->tensorboard>=2.4.1->-r requirements.txt (line 19)) (3.0.0)\n",
            "Requirement already satisfied: executing>=1.2.0 in ./cv_project/lib/python3.10/site-packages (from stack-data->ipython->-r requirements.txt (line 36)) (2.1.0)\n",
            "Requirement already satisfied: asttokens>=2.1.0 in ./cv_project/lib/python3.10/site-packages (from stack-data->ipython->-r requirements.txt (line 36)) (2.4.1)\n",
            "Requirement already satisfied: pure-eval in ./cv_project/lib/python3.10/site-packages (from stack-data->ipython->-r requirements.txt (line 36)) (0.2.3)\n",
            "Requirement already satisfied: mpmath<1.4,>=1.1.0 in ./cv_project/lib/python3.10/site-packages (from sympy->torch!=1.12.0,>=1.7.0->-r requirements.txt (line 10)) (1.3.0)\n",
            "fatal: destination path 'yolov7' already exists and is not an empty directory.\n"
          ]
        }
      ],
      "source": [
        "!pip install -r requirements.txt\n",
        "!git clone https://github.com/WongKinYiu/yolov7.git"
      ]
    },
    {
      "cell_type": "code",
      "execution_count": 2,
      "metadata": {},
      "outputs": [
        {
          "name": "stdout",
          "output_type": "stream",
          "text": [
            "/Users/jan/Documents/code/cv/project/yolov7\n"
          ]
        },
        {
          "name": "stderr",
          "output_type": "stream",
          "text": [
            "/Users/jan/Documents/code/cv/project/cv_project/lib/python3.10/site-packages/IPython/core/magics/osm.py:417: UserWarning: This is now an optional IPython functionality, setting dhist requires you to install the `pickleshare` library.\n",
            "  self.shell.db['dhist'] = compress_dhist(dhist)[-100:]\n"
          ]
        }
      ],
      "source": [
        "cd yolov7/"
      ]
    },
    {
      "cell_type": "code",
      "execution_count": 3,
      "metadata": {
        "colab": {
          "base_uri": "https://localhost:8080/"
        },
        "id": "vE2jk4zOmoPu",
        "outputId": "a9c5728a-4ed8-42a8-f8d6-a60268f21504"
      },
      "outputs": [],
      "source": [
        "import cv2\n",
        "import torch\n",
        "import numpy as np\n",
        "\n",
        "from pathlib import Path\n",
        "from tqdm import tqdm\n",
        "from models.yolo import Model\n",
        "from utils.torch_utils import select_device"
      ]
    },
    {
      "cell_type": "markdown",
      "metadata": {
        "id": "R2Mn3ayM5PUR"
      },
      "source": [
        "## Directories and Configuration\n"
      ]
    },
    {
      "cell_type": "markdown",
      "metadata": {},
      "source": [
        "For the live demo, we selected a test video from the [LifeCLEF 2015](https://www.imageclef.org/lifeclef/2015/fish) Fish Dataset, which we saved in the ./detect/video_in directory. Other configuration files and different YOLO weights can be found in ./yolo_files."
      ]
    },
    {
      "cell_type": "code",
      "execution_count": 4,
      "metadata": {
        "id": "RafB5uuaOSMK"
      },
      "outputs": [],
      "source": [
        "# Configuration Flags\n",
        "SAVE_ORIGINAL = False  # Flag to save original frames\n",
        "TRAIN = True  # Flag to switch between creating training images and creating validation images\n",
        "\n",
        "# Base directory setup\n",
        "BASE_DIR = Path(\"/home/jan/Documents/code/CV-Fish-Abundance\")\n",
        "\n",
        "# Training set directories\n",
        "VIDEO_DIR_IN = BASE_DIR / \"detect/video_in\"\n",
        "VIDEO_DIR_OUT = BASE_DIR / \"detect/video_out\"\n",
        "\n",
        "# Path to YOLO model\n",
        "MODEL_DIR = BASE_DIR / \"yolo_files/weights/v7_640_best.pt\"\n",
        "\n",
        "# Frame processing parameters\n",
        "FRAME_RESIZE = (640, 640)\n",
        "\n",
        "# Optical flow parameters\n",
        "FARNEBACK_PARAMS = {\n",
        "    \"pyr_scale\": 0.95,\n",
        "    \"levels\": 10,\n",
        "    \"winsize\": 15,\n",
        "    \"iterations\": 3,\n",
        "    \"poly_n\": 5,\n",
        "    \"poly_sigma\": 1.2,\n",
        "    \"flags\": 0,\n",
        "}\n",
        "\n",
        "# Opacity parameters\n",
        "OPACITY_FOREGROUND = 0.5\n",
        "OPACITY_OPTICAL_FLOW = 0.5"
      ]
    },
    {
      "cell_type": "markdown",
      "metadata": {
        "id": "QMR9UH9jPyNX"
      },
      "source": [
        "---\n"
      ]
    },
    {
      "cell_type": "markdown",
      "metadata": {
        "id": "1ymY_V2japXC"
      },
      "source": [
        "# Image pipeline\n"
      ]
    },
    {
      "cell_type": "markdown",
      "metadata": {},
      "source": [
        "In this section, we create the combined image by merging three sources: the Gaussian Mixture Model (GMM) output, optical flow, and the grayscale version of the original frame.\n"
      ]
    },
    {
      "cell_type": "code",
      "execution_count": 5,
      "metadata": {
        "id": "pMM9grDh0b5q"
      },
      "outputs": [],
      "source": [
        "def adjust_gamma(image, gamma=1.0):\n",
        "    \"\"\"\n",
        "    Adjusts the gamma of an image.\n",
        "\n",
        "    Args:\n",
        "        image (np.ndarray): Input image.\n",
        "        gamma (float): Gamma value to adjust (default is 1.0).\n",
        "\n",
        "    Returns:\n",
        "        np.ndarray: Gamma adjusted image.\n",
        "    \"\"\"\n",
        "    invGamma = 1.0 / gamma\n",
        "    table = np.array([(i / 255.0) ** invGamma * 255 for i in range(256)], dtype=\"uint8\")\n",
        "    return cv2.LUT(image, table)"
      ]
    },
    {
      "cell_type": "code",
      "execution_count": 6,
      "metadata": {},
      "outputs": [],
      "source": [
        "def apply_gmm(frame, foreground_detector):\n",
        "    \"\"\"\n",
        "    Applies GMM (Gaussian Mixture Model) to detect foreground objects in a frame.\n",
        "\n",
        "    Args:\n",
        "        frame (np.ndarray): Input frame.\n",
        "        foreground_detector (cv2.BackgroundSubtractorMOG2): Foreground detector.\n",
        "\n",
        "    Returns:\n",
        "        np.ndarray: Filtered foreground mask.\n",
        "    \"\"\"\n",
        "    foreground = foreground_detector.apply(frame)\n",
        "    filtered_foreground = cv2.morphologyEx(\n",
        "        foreground, cv2.MORPH_OPEN, cv2.getStructuringElement(cv2.MORPH_ELLIPSE, (3, 3))\n",
        "    )\n",
        "    filtered_foreground = cv2.morphologyEx(\n",
        "        filtered_foreground,\n",
        "        cv2.MORPH_CLOSE,\n",
        "        cv2.getStructuringElement(cv2.MORPH_ELLIPSE, (5, 5)),\n",
        "    )\n",
        "\n",
        "    # Shadow Removal: Convert shadows to binary foreground\n",
        "    _, filtered_foreground = cv2.threshold(\n",
        "        filtered_foreground, 127, 255, cv2.THRESH_BINARY\n",
        "    )\n",
        "\n",
        "    return filtered_foreground"
      ]
    },
    {
      "cell_type": "code",
      "execution_count": 7,
      "metadata": {},
      "outputs": [],
      "source": [
        "def apply_optical_flow(frame, prvs, hsv, farneback, frame_size):\n",
        "    \"\"\"\n",
        "    Computes optical flow using Farneback method and visualizes it in HSV space.\n",
        "\n",
        "    Args:\n",
        "        frame (np.ndarray): Input frame.\n",
        "        prvs (np.ndarray): Previous frame in grayscale.\n",
        "        hsv (np.ndarray): HSV image used for optical flow visualization.\n",
        "        farneback (dict): Parameters for the Farneback optical flow algorithm.\n",
        "        frame_size (tuple): Resized image size.\n",
        "\n",
        "    Returns:\n",
        "        tuple: Tuple containing resized BGR image of the flow and next grayscale frame.\n",
        "    \"\"\"\n",
        "    next_frame = cv2.cvtColor(frame, cv2.COLOR_BGR2GRAY)\n",
        "    flow = cv2.calcOpticalFlowFarneback(prvs, next_frame, None, **farneback)\n",
        "    mag, ang = cv2.cartToPolar(flow[..., 0], flow[..., 1])\n",
        "    hsv[..., 0] = ang * 180 / np.pi / 2\n",
        "    hsv[..., 2] = cv2.normalize(mag, None, 0, 255, cv2.NORM_MINMAX)\n",
        "    bgr = cv2.cvtColor(hsv, cv2.COLOR_HSV2BGR)\n",
        "    bgr_resized = cv2.resize(bgr, frame_size)\n",
        "\n",
        "    return bgr_resized, next_frame"
      ]
    },
    {
      "cell_type": "code",
      "execution_count": 8,
      "metadata": {},
      "outputs": [],
      "source": [
        "def apply_combination(\n",
        "    frame,\n",
        "    filtered_foreground,\n",
        "    bgr_resized,\n",
        "    opacity_foreground=0.5,\n",
        "    opacity_optical_flow=0.5,\n",
        "):\n",
        "    \"\"\"\n",
        "    Combines the results of GMM and optical flow with opacity blending, and saves the combined image and annotations.\n",
        "\n",
        "    Args:\n",
        "        frame (np.ndarray): Original frame.\n",
        "        filtered_foreground (np.ndarray): Foreground mask obtained from GMM.\n",
        "        bgr_resized (np.ndarray): Optical flow visualization in BGR format.\n",
        "        opacity_foreground (float): Opacity for filtered foreground mask (0 to 1).\n",
        "        opacity_optical_flow (float): Opacity for optical flow visualization (0 to 1).\n",
        "    \"\"\"\n",
        "\n",
        "    combined_frame = np.zeros_like(frame)\n",
        "    grayscale_frame = cv2.cvtColor(frame, cv2.COLOR_BGR2GRAY)\n",
        "    filtered_foreground_normalized = cv2.normalize(\n",
        "        filtered_foreground, None, 0, 255, cv2.NORM_MINMAX\n",
        "    )\n",
        "    blended_foreground = cv2.addWeighted(\n",
        "        grayscale_frame,\n",
        "        1 - opacity_foreground,\n",
        "        filtered_foreground_normalized,\n",
        "        opacity_foreground,\n",
        "        0,\n",
        "    )\n",
        "    blue_channel_optical_flow = bgr_resized[:, :, 0]\n",
        "    blended_optical_flow = cv2.addWeighted(\n",
        "        grayscale_frame,\n",
        "        1 - opacity_optical_flow,\n",
        "        blue_channel_optical_flow,\n",
        "        opacity_optical_flow,\n",
        "        0,\n",
        "    )\n",
        "\n",
        "    combined_frame[:, :, 0] = grayscale_frame  # Grayscale frame\n",
        "    combined_frame[:, :, 1] = blended_foreground  # filtered foreground\n",
        "    combined_frame[:, :, 2] = blended_optical_flow  # Blended optical flow\n",
        "\n",
        "    return combined_frame"
      ]
    },
    {
      "cell_type": "code",
      "execution_count": 9,
      "metadata": {},
      "outputs": [],
      "source": [
        "def process_frame(\n",
        "    frame,\n",
        "    frame1,\n",
        "    foreground_detector,\n",
        "    prvs,\n",
        "    hsv,\n",
        "    farneback,\n",
        "    frame_size,\n",
        "    opacity_foreground,\n",
        "    opacity_optical_flow,\n",
        "):\n",
        "    \"\"\"\n",
        "    Processes a single video frame by applying background subtraction (GMM) and optical flow,\n",
        "    and then combines the results. Optionally saves the original frame, and stores the combined\n",
        "    output along with ground truth annotations.\n",
        "\n",
        "    Args:\n",
        "        frame (numpy.ndarray): The current video frame after resizing and gamma adjustment.\n",
        "        frame1 (numpy.ndarray): The next video frame to compute optical flow.\n",
        "        foreground_detector (cv2.BackgroundSubtractor): Foreground detector based on GMM.\n",
        "        prvs (numpy.ndarray): The previous grayscale frame used for optical flow calculation.\n",
        "        hsv (numpy.ndarray): The HSV image used for visualizing optical flow.\n",
        "        farneback (dict): Parameters for the Farneback optical flow algorithm.\n",
        "        frame_size (tuple): Resized image size\n",
        "        opacity_foreground (float): Opacity for filtered foreground mask (0 to 1).\n",
        "        opacity_optical_flow (float): Opacity for optical flow visualization (0 to 1).\n",
        "\n",
        "    Returns:\n",
        "        next_frame (numpy.ndarray): The grayscale version of the current frame (frame1) for use in the next iteration of optical flow calculation.\n",
        "    \"\"\"\n",
        "\n",
        "    # Apply GMM to the frame to detect foreground objects\n",
        "    foreground = apply_gmm(frame, foreground_detector)\n",
        "\n",
        "    # Apply optical flow to the next frame\n",
        "    bgr, next_frame = apply_optical_flow(frame1, prvs, hsv, farneback, frame_size)\n",
        "\n",
        "    # Combine GMM and optical flow results and save the combined image\n",
        "    combined_frame = apply_combination(\n",
        "        frame,\n",
        "        foreground,\n",
        "        bgr,\n",
        "        opacity_foreground,\n",
        "        opacity_optical_flow,\n",
        "    )\n",
        "\n",
        "    return next_frame, combined_frame"
      ]
    },
    {
      "cell_type": "markdown",
      "metadata": {},
      "source": [
        "## Video detection\n"
      ]
    },
    {
      "cell_type": "markdown",
      "metadata": {},
      "source": [
        "In this section, each video frame is processed through our trained YOLO model. The model detects fish and generates bounding boxes around them, which are then drawn onto the original frame. These annotated frames are sequentially saved to produce a new video file that includes the detection results, providing a visual output of the model’s performance on the input video.\n"
      ]
    },
    {
      "cell_type": "code",
      "execution_count": 10,
      "metadata": {},
      "outputs": [],
      "source": [
        "def create_model(path_or_model, autoshape=True):\n",
        "    \"\"\"Custom model loading function.\n",
        "\n",
        "    Arguments:\n",
        "        path_or_model (str): Path to the model file (e.g., 'path/to/model.pt').\n",
        "        path_or_model (dict): Loaded model dictionary (torch.load('path/to/model.pt')).\n",
        "        path_or_model (nn.Module): Pre-loaded model (torch.load('path/to/model.pt')['model']).\n",
        "\n",
        "    Returns:\n",
        "        hub_model (nn.Module): PyTorch model.\n",
        "    \"\"\"\n",
        "    \n",
        "    if isinstance(path_or_model, str):  # If it's a path, load the model\n",
        "        model = torch.load(path_or_model, map_location=torch.device('cpu'))\n",
        "    else:  # Otherwise, treat it as a loaded model or dictionary\n",
        "        model = path_or_model\n",
        "\n",
        "    if isinstance(model, dict):\n",
        "        model = model['ema' if model.get('ema') else 'model']  # Use 'ema' if available, otherwise use 'model'\n",
        "\n",
        "    try:\n",
        "        # If 'yaml' exists, use it\n",
        "        hub_model = Model(model.yaml).to(next(model.parameters()).device)\n",
        "        hub_model.load_state_dict(model.float().state_dict())  # Load weights\n",
        "        hub_model.names = model.names  # Copy class names\n",
        "    except AttributeError:\n",
        "        print(\"Warning: 'yaml' attribute not found. Loading model without YAML configuration.\")\n",
        "        # Manually specify model configuration (channels, number of classes, etc.)\n",
        "        # Example: Assuming 3 input channels (RGB) and 80 classes (COCO dataset)\n",
        "        hub_model = Model(ch=3, nc=80).to(next(model.parameters()).device)\n",
        "        hub_model.load_state_dict(model.float().state_dict())  # Load weights\n",
        "        hub_model.names = model.names  # Copy class names\n",
        "\n",
        "    if autoshape:\n",
        "        hub_model = hub_model.autoshape()\n",
        "\n",
        "    device = select_device('0' if torch.cuda.is_available() else 'cpu')\n",
        "    return hub_model.to(device)  # Move the model to the selected device"
      ]
    },
    {
      "cell_type": "code",
      "execution_count": 11,
      "metadata": {},
      "outputs": [],
      "source": [
        "def process_video(\n",
        "    video_path,\n",
        "    farneback,\n",
        "    frame_size,\n",
        "    out_dir,\n",
        "    opacity_foreground,\n",
        "    opacity_optical_flow,\n",
        "):\n",
        "    \"\"\"\n",
        "    Processes a video by applying background subtraction (using Gaussian Mixture Model), optical flow, and frame adjustments, and saves the processed frames and combined results along with ground truth annotations.\n",
        "\n",
        "    Args:\n",
        "        video_path (Path): Path to the input video file.\n",
        "        farneback (dict): Parameters for the Farneback optical flow algorithm.\n",
        "        frame_size (tuple): Resized image size (width, height).\n",
        "        out_dir (Path): Path to save the output video.\n",
        "        opacity_foreground (float): Opacity for filtered foreground mask (0 to 1).\n",
        "        opacity_optical_flow (float): Opacity for optical flow visualization (0 to 1).\n",
        "\n",
        "    Returns:\n",
        "        None: The function processes the video, saves results, and does not return anything.\n",
        "    \"\"\"\n",
        "\n",
        "    # Load YOLOv7 model\n",
        "    model = create_model(path_or_model=MODEL_DIR)\n",
        "\n",
        "    video_name_short = video_path.stem[-15:]\n",
        "    output_path = out_dir / (video_name_short + \".mp4\")\n",
        "\n",
        "    # Open the video file\n",
        "    cap = cv2.VideoCapture(str(video_path))\n",
        "    if not cap.isOpened():\n",
        "        print(f\"Error: Could not open video file: {video_path}\")\n",
        "        return\n",
        "\n",
        "    total_frames = int(cap.get(cv2.CAP_PROP_FRAME_COUNT))\n",
        "    fps = cap.get(cv2.CAP_PROP_FPS) or 30  # Default to 30 if FPS is invalid\n",
        "\n",
        "    foreground_detector = cv2.createBackgroundSubtractorMOG2(\n",
        "        history=250, varThreshold=16, detectShadows=True\n",
        "    )\n",
        "\n",
        "    fourcc = cv2.VideoWriter_fourcc(*\"mp4v\")\n",
        "    out = cv2.VideoWriter(output_path, fourcc, fps, (frame_size[0], frame_size[1]))\n",
        "\n",
        "    if not out.isOpened():\n",
        "        print(\"Error: Could not open VideoWriter.\")\n",
        "        cap.release()\n",
        "        return\n",
        "\n",
        "    try:\n",
        "        ret, frame1 = cap.read()\n",
        "        if not ret:\n",
        "            print(f\"Failed to read the video file: {video_name_short}\")\n",
        "            return\n",
        "\n",
        "        # Convert first frame to grayscale for optical flow\n",
        "        prvs = cv2.cvtColor(frame1, cv2.COLOR_BGR2GRAY)\n",
        "        hsv = np.zeros_like(frame1)\n",
        "        hsv[..., 1] = 255\n",
        "\n",
        "        frame_idx = 0\n",
        "\n",
        "        # Process each frame of the video\n",
        "        with tqdm(\n",
        "            total=total_frames, desc=f\"Processing {video_name_short}\"\n",
        "        ) as video_pbar:\n",
        "            while ret:\n",
        "                # Resize and adjust gamma for the current frame\n",
        "                frame = cv2.resize(frame1, frame_size)\n",
        "                original_resized_frame = frame\n",
        "                frame = adjust_gamma(frame, 1.5)\n",
        "                frame_blurred = cv2.GaussianBlur(frame, (5, 5), 0)\n",
        "\n",
        "                # Process the current frame (optical flow and foreground detection)\n",
        "                next_frame, combined_frame = process_frame(\n",
        "                    frame_blurred,\n",
        "                    frame1,\n",
        "                    foreground_detector,\n",
        "                    prvs,\n",
        "                    hsv,\n",
        "                    farneback,\n",
        "                    frame_size,\n",
        "                    opacity_foreground,\n",
        "                    opacity_optical_flow,\n",
        "                )\n",
        "\n",
        "                results = model(combined_frame)\n",
        "\n",
        "                # Draw bounding boxes and labels on the frame\n",
        "                labels, cords = results.xyxyn[0][:, -1], results.xyxyn[0][:, :-1]\n",
        "                \n",
        "                n = len(labels)\n",
        "                for i in range(n):\n",
        "                    row = cords[i]\n",
        "                    if row[4] >= 0.5:  # Confidence threshold\n",
        "                        x1, y1, x2, y2 = (\n",
        "                            int(row[0] * original_resized_frame.shape[1]),\n",
        "                            int(row[1] * original_resized_frame.shape[0]),\n",
        "                            int(row[2] * original_resized_frame.shape[1]),\n",
        "                            int(row[3] * original_resized_frame.shape[0]),\n",
        "                        )\n",
        "                        # Draw a rectangle around the object\n",
        "                        cv2.rectangle(\n",
        "                            original_resized_frame, (x1, y1), (x2, y2), (0, 255, 0), 2\n",
        "                        )\n",
        "\n",
        "                        # Put label on the detected object\n",
        "                        label = f\"{model.names[int(labels[i])]}: {row[4]:.2f}\"\n",
        "                        cv2.putText(\n",
        "                            original_resized_frame,\n",
        "                            label,\n",
        "                            (x1, y1 - 10),\n",
        "                            cv2.FONT_HERSHEY_SIMPLEX,\n",
        "                            0.9,\n",
        "                            (255, 0, 0),\n",
        "                            2,\n",
        "                        )\n",
        "\n",
        "                # Update progress bar and move to next frame\n",
        "                video_pbar.update(1)\n",
        "                prvs = next_frame\n",
        "                ret, frame1 = cap.read()\n",
        "                frame_idx += 1\n",
        "                \n",
        "                # Write the processed frame to the output video\n",
        "                out.write(original_resized_frame)\n",
        "\n",
        "    #except Exception as e:\n",
        "    #    print(f\"Error processing video {e}\")\n",
        "\n",
        "    finally:\n",
        "\n",
        "        # Release video capture and writer resources\n",
        "        cap.release()\n",
        "        out.release()"
      ]
    },
    {
      "cell_type": "code",
      "execution_count": 12,
      "metadata": {},
      "outputs": [],
      "source": [
        "\"\"\"\n",
        "Main entry point of the script. Processes either training or test videos.\n",
        "\"\"\"\n",
        "\n",
        "video_files = list(VIDEO_DIR_IN.glob(\"*.flv\"))\n",
        "\n",
        "for video in video_files:\n",
        "    process_video(\n",
        "        video,\n",
        "        FARNEBACK_PARAMS,\n",
        "        FRAME_RESIZE,\n",
        "        VIDEO_DIR_OUT,\n",
        "        OPACITY_FOREGROUND,\n",
        "        OPACITY_OPTICAL_FLOW,\n",
        "    )"
      ]
    }
  ],
  "metadata": {
    "colab": {
      "collapsed_sections": [
        "SPN4GsCpZC4W",
        "BOgY7NnkQO4S",
        "bB9eG7qbV6jl",
        "hfFX_FAOYTQt",
        "xdYij-suZLWQ",
        "xPNG9tgHZa18",
        "3NNPM9OqZoGw",
        "2GFUTgDpZwlJ"
      ],
      "provenance": []
    },
    "kernelspec": {
      "display_name": "cv_project",
      "language": "python",
      "name": "python3"
    },
    "language_info": {
      "codemirror_mode": {
        "name": "ipython",
        "version": 3
      },
      "file_extension": ".py",
      "mimetype": "text/x-python",
      "name": "python",
      "nbconvert_exporter": "python",
      "pygments_lexer": "ipython3",
      "version": "3.10.1"
    }
  },
  "nbformat": 4,
  "nbformat_minor": 0
}
