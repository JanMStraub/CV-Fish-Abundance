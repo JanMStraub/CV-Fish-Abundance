{
  "cells": [
    {
      "cell_type": "markdown",
      "metadata": {
        "id": "SPN4GsCpZC4W"
      },
      "source": [
        "# Preliminary\n"
      ]
    },
    {
      "cell_type": "markdown",
      "metadata": {
        "id": "BKNTf7L4b2z7"
      },
      "source": [
        "In this section, we install and import all the necessary libraries and components required for the project. Additionally, we define the directory paths and configuration flags to ensure proper file handling and smooth execution of the pipeline.\n"
      ]
    },
    {
      "cell_type": "markdown",
      "metadata": {
        "id": "V1H3gELF5H9o"
      },
      "source": [
        "## Imports\n"
      ]
    },
    {
      "cell_type": "code",
      "execution_count": 13,
      "metadata": {
        "colab": {
          "base_uri": "https://localhost:8080/"
        },
        "id": "ccCEcC7sI89U",
        "outputId": "69ccc84a-99bf-439e-fe3d-3cf05d39cd9b"
      },
      "outputs": [],
      "source": [
        "!pip install -r requirements.txt\n",
        "!git clone https://github.com/WongKinYiu/yolov7.git"
      ]
    },
    {
      "cell_type": "code",
      "execution_count": 14,
      "metadata": {},
      "outputs": [],
      "source": [
        "cd yolov7/"
      ]
    },
    {
      "cell_type": "code",
      "execution_count": 15,
      "metadata": {
        "colab": {
          "base_uri": "https://localhost:8080/"
        },
        "id": "vE2jk4zOmoPu",
        "outputId": "a9c5728a-4ed8-42a8-f8d6-a60268f21504"
      },
      "outputs": [],
      "source": [
        "import cv2\n",
        "import torch\n",
        "import numpy as np\n",
        "\n",
        "from pathlib import Path\n",
        "from tqdm import tqdm"
      ]
    },
    {
      "cell_type": "markdown",
      "metadata": {
        "id": "R2Mn3ayM5PUR"
      },
      "source": [
        "## Directories and Configuration\n"
      ]
    },
    {
      "cell_type": "code",
      "execution_count": 16,
      "metadata": {
        "id": "RafB5uuaOSMK"
      },
      "outputs": [],
      "source": [
        "# Configuration Flags\n",
        "SAVE_ORIGINAL = False  # Flag to save original frames\n",
        "TRAIN = True  # Flag to switch between creating training images and creating validation images\n",
        "\n",
        "# Base directory setup\n",
        "BASE_DIR = Path(\"/Users/jan/Documents/code/cv/project\")\n",
        "\n",
        "# Training set directories\n",
        "VIDEO_DIR_IN = BASE_DIR / \"detect/video_in\"\n",
        "VIDEO_DIR_OUT = BASE_DIR / \"detect/video_out\"\n",
        "\n",
        "# Path to YOLO model\n",
        "MODEL_DIR = BASE_DIR / \"yolo_files/best.pt\"\n",
        "\n",
        "# Frame processing parameters\n",
        "FRAME_RESIZE = (640, 640)\n",
        "\n",
        "# Optical flow parameters\n",
        "FARNEBACK_PARAMS = {\n",
        "    \"pyr_scale\": 0.95,\n",
        "    \"levels\": 10,\n",
        "    \"winsize\": 15,\n",
        "    \"iterations\": 3,\n",
        "    \"poly_n\": 5,\n",
        "    \"poly_sigma\": 1.2,\n",
        "    \"flags\": 0,\n",
        "}\n",
        "\n",
        "# Opacity parameters\n",
        "OPACITY_FOREGROUND = 0.5\n",
        "OPACITY_OPTICAL_FLOW = 0.5"
      ]
    },
    {
      "cell_type": "markdown",
      "metadata": {
        "id": "QMR9UH9jPyNX"
      },
      "source": [
        "---\n"
      ]
    },
    {
      "cell_type": "markdown",
      "metadata": {
        "id": "1ymY_V2japXC"
      },
      "source": [
        "# Image pipeline\n"
      ]
    },
    {
      "cell_type": "markdown",
      "metadata": {},
      "source": [
        "In this section, we create the combined image by merging three sources: the Gaussian Mixture Model (GMM) output, optical flow, and the grayscale version of the original frame.\n"
      ]
    },
    {
      "cell_type": "code",
      "execution_count": 17,
      "metadata": {
        "id": "pMM9grDh0b5q"
      },
      "outputs": [],
      "source": [
        "def adjust_gamma(image, gamma=1.0):\n",
        "    \"\"\"\n",
        "    Adjusts the gamma of an image.\n",
        "\n",
        "    Args:\n",
        "        image (np.ndarray): Input image.\n",
        "        gamma (float): Gamma value to adjust (default is 1.0).\n",
        "\n",
        "    Returns:\n",
        "        np.ndarray: Gamma adjusted image.\n",
        "    \"\"\"\n",
        "    invGamma = 1.0 / gamma\n",
        "    table = np.array([(i / 255.0) ** invGamma * 255 for i in range(256)], dtype=\"uint8\")\n",
        "    return cv2.LUT(image, table)"
      ]
    },
    {
      "cell_type": "code",
      "execution_count": 18,
      "metadata": {},
      "outputs": [],
      "source": [
        "def apply_gmm(frame, foreground_detector):\n",
        "    \"\"\"\n",
        "    Applies GMM (Gaussian Mixture Model) to detect foreground objects in a frame.\n",
        "\n",
        "    Args:\n",
        "        frame (np.ndarray): Input frame.\n",
        "        foreground_detector (cv2.BackgroundSubtractorMOG2): Foreground detector.\n",
        "\n",
        "    Returns:\n",
        "        np.ndarray: Filtered foreground mask.\n",
        "    \"\"\"\n",
        "    foreground = foreground_detector.apply(frame)\n",
        "    filtered_foreground = cv2.morphologyEx(\n",
        "        foreground, cv2.MORPH_OPEN, cv2.getStructuringElement(cv2.MORPH_ELLIPSE, (3, 3))\n",
        "    )\n",
        "    filtered_foreground = cv2.morphologyEx(\n",
        "        filtered_foreground,\n",
        "        cv2.MORPH_CLOSE,\n",
        "        cv2.getStructuringElement(cv2.MORPH_ELLIPSE, (5, 5)),\n",
        "    )\n",
        "\n",
        "    # Shadow Removal: Convert shadows to binary foreground\n",
        "    _, filtered_foreground = cv2.threshold(\n",
        "        filtered_foreground, 127, 255, cv2.THRESH_BINARY\n",
        "    )\n",
        "\n",
        "    return filtered_foreground"
      ]
    },
    {
      "cell_type": "code",
      "execution_count": 19,
      "metadata": {},
      "outputs": [],
      "source": [
        "def apply_optical_flow(frame, prvs, hsv, farneback, frame_size):\n",
        "    \"\"\"\n",
        "    Computes optical flow using Farneback method and visualizes it in HSV space.\n",
        "\n",
        "    Args:\n",
        "        frame (np.ndarray): Input frame.\n",
        "        prvs (np.ndarray): Previous frame in grayscale.\n",
        "        hsv (np.ndarray): HSV image used for optical flow visualization.\n",
        "        farneback (dict): Parameters for the Farneback optical flow algorithm.\n",
        "        frame_size (tuple): Resized image size.\n",
        "\n",
        "    Returns:\n",
        "        tuple: Tuple containing resized BGR image of the flow and next grayscale frame.\n",
        "    \"\"\"\n",
        "    next_frame = cv2.cvtColor(frame, cv2.COLOR_BGR2GRAY)\n",
        "    flow = cv2.calcOpticalFlowFarneback(prvs, next_frame, None, **farneback)\n",
        "    mag, ang = cv2.cartToPolar(flow[..., 0], flow[..., 1])\n",
        "    hsv[..., 0] = ang * 180 / np.pi / 2\n",
        "    hsv[..., 2] = cv2.normalize(mag, None, 0, 255, cv2.NORM_MINMAX)\n",
        "    bgr = cv2.cvtColor(hsv, cv2.COLOR_HSV2BGR)\n",
        "    bgr_resized = cv2.resize(bgr, frame_size)\n",
        "\n",
        "    return bgr_resized, next_frame"
      ]
    },
    {
      "cell_type": "code",
      "execution_count": 20,
      "metadata": {},
      "outputs": [],
      "source": [
        "def apply_combination(\n",
        "    frame,\n",
        "    filtered_foreground,\n",
        "    bgr_resized,\n",
        "    opacity_foreground=0.5,\n",
        "    opacity_optical_flow=0.5,\n",
        "):\n",
        "    \"\"\"\n",
        "    Combines the results of GMM and optical flow with opacity blending, and saves the combined image and annotations.\n",
        "\n",
        "    Args:\n",
        "        frame (np.ndarray): Original frame.\n",
        "        filtered_foreground (np.ndarray): Foreground mask obtained from GMM.\n",
        "        bgr_resized (np.ndarray): Optical flow visualization in BGR format.\n",
        "        opacity_foreground (float): Opacity for filtered foreground mask (0 to 1).\n",
        "        opacity_optical_flow (float): Opacity for optical flow visualization (0 to 1).\n",
        "    \"\"\"\n",
        "\n",
        "    combined_frame = np.zeros_like(frame)\n",
        "    grayscale_frame = cv2.cvtColor(frame, cv2.COLOR_BGR2GRAY)\n",
        "    filtered_foreground_normalized = cv2.normalize(\n",
        "        filtered_foreground, None, 0, 255, cv2.NORM_MINMAX\n",
        "    )\n",
        "    blended_foreground = cv2.addWeighted(\n",
        "        grayscale_frame,\n",
        "        1 - opacity_foreground,\n",
        "        filtered_foreground_normalized,\n",
        "        opacity_foreground,\n",
        "        0,\n",
        "    )\n",
        "    blue_channel_optical_flow = bgr_resized[:, :, 0]\n",
        "    blended_optical_flow = cv2.addWeighted(\n",
        "        grayscale_frame,\n",
        "        1 - opacity_optical_flow,\n",
        "        blue_channel_optical_flow,\n",
        "        opacity_optical_flow,\n",
        "        0,\n",
        "    )\n",
        "\n",
        "    combined_frame[:, :, 0] = grayscale_frame  # Grayscale frame\n",
        "    combined_frame[:, :, 1] = blended_foreground  # filtered foreground\n",
        "    combined_frame[:, :, 2] = blended_optical_flow  # Blended optical flow\n",
        "\n",
        "    return combined_frame"
      ]
    },
    {
      "cell_type": "code",
      "execution_count": 21,
      "metadata": {},
      "outputs": [],
      "source": [
        "def process_frame(\n",
        "    frame,\n",
        "    frame1,\n",
        "    frame_idx,\n",
        "    foreground_detector,\n",
        "    prvs,\n",
        "    hsv,\n",
        "    farneback,\n",
        "    frame_size,\n",
        "    opacity_foreground,\n",
        "    opacity_optical_flow,\n",
        "):\n",
        "    \"\"\"\n",
        "    Processes a single video frame by applying background subtraction (GMM) and optical flow,\n",
        "    and then combines the results. Optionally saves the original frame, and stores the combined\n",
        "    output along with ground truth annotations.\n",
        "\n",
        "    Args:\n",
        "        frame (numpy.ndarray): The current video frame after resizing and gamma adjustment.\n",
        "        frame1 (numpy.ndarray): The next video frame to compute optical flow.\n",
        "        frame_idx (int): The index of the current frame in the video.\n",
        "        foreground_detector (cv2.BackgroundSubtractor): Foreground detector based on GMM.\n",
        "        prvs (numpy.ndarray): The previous grayscale frame used for optical flow calculation.\n",
        "        hsv (numpy.ndarray): The HSV image used for visualizing optical flow.\n",
        "        farneback (dict): Parameters for the Farneback optical flow algorithm.\n",
        "        frame_size (tuple): Resized image size\n",
        "        opacity_foreground (float): Opacity for filtered foreground mask (0 to 1).\n",
        "        opacity_optical_flow (float): Opacity for optical flow visualization (0 to 1).\n",
        "\n",
        "    Returns:\n",
        "        next_frame (numpy.ndarray): The grayscale version of the current frame (frame1) for use in the next iteration of optical flow calculation.\n",
        "    \"\"\"\n",
        "\n",
        "    # Apply GMM to the frame to detect foreground objects\n",
        "    foreground = apply_gmm(frame, foreground_detector)\n",
        "\n",
        "    # Apply optical flow to the next frame\n",
        "    bgr, next_frame = apply_optical_flow(frame1, prvs, hsv, farneback, frame_size)\n",
        "\n",
        "    # Combine GMM and optical flow results and save the combined image\n",
        "    combined_frame = apply_combination(\n",
        "        frame,\n",
        "        foreground,\n",
        "        bgr,\n",
        "        opacity_foreground,\n",
        "        opacity_optical_flow,\n",
        "    )\n",
        "\n",
        "    return next_frame, combined_frame"
      ]
    },
    {
      "cell_type": "markdown",
      "metadata": {},
      "source": [
        "## Video detection\n"
      ]
    },
    {
      "cell_type": "markdown",
      "metadata": {},
      "source": [
        "In this section, each video frame is processed through our trained YOLO model. The model detects fish and generates bounding boxes around them, which are then drawn onto the original frame. These annotated frames are sequentially saved to produce a new video file that includes the detection results, providing a visual output of the model’s performance on the input video.\n"
      ]
    },
    {
      "cell_type": "code",
      "execution_count": 22,
      "metadata": {},
      "outputs": [],
      "source": [
        "def process_video(\n",
        "    video_path,\n",
        "    farneback,\n",
        "    frame_size,\n",
        "    out_dir,\n",
        "    opacity_foreground,\n",
        "    opacity_optical_flow,\n",
        "):\n",
        "    \"\"\"\n",
        "    Processes a video by applying background subtraction (using Gaussian Mixture Model), optical flow, and frame adjustments, and saves the processed frames and combined results along with ground truth annotations.\n",
        "\n",
        "    Args:\n",
        "        video_path (Path): Path to the input video file.\n",
        "        farneback (dict): Parameters for the Farneback optical flow algorithm.\n",
        "        frame_size (tuple): Resized image size (width, height).\n",
        "        out_dir (Path): Path to save the output video.\n",
        "        opacity_foreground (float): Opacity for filtered foreground mask (0 to 1).\n",
        "        opacity_optical_flow (float): Opacity for optical flow visualization (0 to 1).\n",
        "\n",
        "    Returns:\n",
        "        None: The function processes the video, saves results, and does not return anything.\n",
        "    \"\"\"\n",
        "\n",
        "    # Load YOLOv7 model\n",
        "    model = torch.load(MODEL_DIR, map_location=torch.device(\"cpu\"))\n",
        "\n",
        "    video_name_short = video_path.stem[-15:]\n",
        "    output_path = out_dir / (video_name_short + \".mp4\")\n",
        "\n",
        "    # Open the video file\n",
        "    cap = cv2.VideoCapture(str(video_path))\n",
        "    if not cap.isOpened():\n",
        "        print(f\"Error: Could not open video file: {video_path}\")\n",
        "        return\n",
        "\n",
        "    total_frames = int(cap.get(cv2.CAP_PROP_FRAME_COUNT))\n",
        "    fps = cap.get(cv2.CAP_PROP_FPS) or 30  # Default to 30 if FPS is invalid\n",
        "\n",
        "    foreground_detector = cv2.createBackgroundSubtractorMOG2(\n",
        "        history=250, varThreshold=16, detectShadows=True\n",
        "    )\n",
        "\n",
        "    fourcc = cv2.VideoWriter_fourcc(*\"mp4v\")\n",
        "    out = cv2.VideoWriter(output_path, fourcc, fps, (frame_size[0], frame_size[1]))\n",
        "\n",
        "    if not out.isOpened():\n",
        "        print(\"Error: Could not open VideoWriter.\")\n",
        "        cap.release()\n",
        "        return\n",
        "\n",
        "    try:\n",
        "        ret, frame1 = cap.read()\n",
        "        if not ret:\n",
        "            print(f\"Failed to read the video file: {video_name_short}\")\n",
        "            return\n",
        "\n",
        "        # Convert first frame to grayscale for optical flow\n",
        "        prvs = cv2.cvtColor(frame1, cv2.COLOR_BGR2GRAY)\n",
        "        hsv = np.zeros_like(frame1)\n",
        "        hsv[..., 1] = 255\n",
        "\n",
        "        frame_idx = 0\n",
        "\n",
        "        # Process each frame of the video\n",
        "        with tqdm(\n",
        "            total=total_frames, desc=f\"Processing {video_name_short}\"\n",
        "        ) as video_pbar:\n",
        "            while ret:\n",
        "                # Resize and adjust gamma for the current frame\n",
        "                frame = cv2.resize(frame1, frame_size)\n",
        "                original_resized_frame = frame\n",
        "                frame = adjust_gamma(frame, 1.5)\n",
        "                frame_blurred = cv2.GaussianBlur(frame, (5, 5), 0)\n",
        "\n",
        "                # Process the current frame (optical flow and foreground detection)\n",
        "                next_frame, combined_frame = process_frame(\n",
        "                    frame_blurred,\n",
        "                    frame1,\n",
        "                    frame_idx,\n",
        "                    foreground_detector,\n",
        "                    prvs,\n",
        "                    hsv,\n",
        "                    farneback,\n",
        "                    frame_size,\n",
        "                    opacity_foreground,\n",
        "                    opacity_optical_flow,\n",
        "                )\n",
        "\n",
        "                results = model(combined_frame)\n",
        "\n",
        "                # Draw bounding boxes and labels on the frame\n",
        "                labels, cords = results.xyxyn[0][:, -1], results.xyxyn[0][:, :-1]\n",
        "\n",
        "                n = len(labels)\n",
        "                for i in range(n):\n",
        "                    row = cords[i]\n",
        "                    if row[4] >= 0.5:  # Confidence threshold\n",
        "                        x1, y1, x2, y2 = (\n",
        "                            int(row[0] * original_resized_frame.shape[1]),\n",
        "                            int(row[1] * original_resized_frame.shape[0]),\n",
        "                            int(row[2] * original_resized_frame.shape[1]),\n",
        "                            int(row[3] * original_resized_frame.shape[0]),\n",
        "                        )\n",
        "                        # Draw a rectangle around the object\n",
        "                        cv2.rectangle(\n",
        "                            original_resized_frame, (x1, y1), (x2, y2), (0, 255, 0), 2\n",
        "                        )\n",
        "\n",
        "                        # Put label on the detected object\n",
        "                        label = f\"{model.names[int(labels[i])]}: {row[4]:.2f}\"\n",
        "                        cv2.putText(\n",
        "                            original_resized_frame,\n",
        "                            label,\n",
        "                            (x1, y1 - 10),\n",
        "                            cv2.FONT_HERSHEY_SIMPLEX,\n",
        "                            0.9,\n",
        "                            (255, 0, 0),\n",
        "                            2,\n",
        "                        )\n",
        "\n",
        "                # Update progress bar and move to next frame\n",
        "                video_pbar.update(1)\n",
        "                prvs = next_frame\n",
        "                ret, frame1 = cap.read()\n",
        "                frame_idx += 1\n",
        "\n",
        "                # Write the processed frame to the output video\n",
        "                out.write(original_resized_frame)\n",
        "\n",
        "    except Exception as e:\n",
        "        print(f\"Error processing video{e}\")\n",
        "\n",
        "    finally:\n",
        "\n",
        "        # Release video capture and writer resources\n",
        "        cap.release()\n",
        "        out.release()\n",
        "        cv2.destroyAllWindows()"
      ]
    },
    {
      "cell_type": "code",
      "execution_count": 23,
      "metadata": {},
      "outputs": [],
      "source": [
        "\"\"\"\n",
        "Main entry point of the script. Processes either training or test videos.\n",
        "\"\"\"\n",
        "\n",
        "video_files = list(VIDEO_DIR_IN.glob(\"*.flv\"))\n",
        "\n",
        "for video in video_files:\n",
        "    process_video(\n",
        "        video,\n",
        "        FARNEBACK_PARAMS,\n",
        "        FRAME_RESIZE,\n",
        "        VIDEO_DIR_OUT,\n",
        "        OPACITY_FOREGROUND,\n",
        "        OPACITY_OPTICAL_FLOW,\n",
        "    )"
      ]
    },
    {
      "cell_type": "markdown",
      "metadata": {
        "id": "bw6y7yDLPvRZ"
      },
      "source": [
        "---\n"
      ]
    }
  ],
  "metadata": {
    "colab": {
      "collapsed_sections": [
        "SPN4GsCpZC4W",
        "BOgY7NnkQO4S",
        "bB9eG7qbV6jl",
        "hfFX_FAOYTQt",
        "xdYij-suZLWQ",
        "xPNG9tgHZa18",
        "3NNPM9OqZoGw",
        "2GFUTgDpZwlJ"
      ],
      "provenance": []
    },
    "kernelspec": {
      "display_name": "cv_project",
      "language": "python",
      "name": "python3"
    },
    "language_info": {
      "codemirror_mode": {
        "name": "ipython",
        "version": 3
      },
      "file_extension": ".py",
      "mimetype": "text/x-python",
      "name": "python",
      "nbconvert_exporter": "python",
      "pygments_lexer": "ipython3",
      "version": "3.10.1"
    }
  },
  "nbformat": 4,
  "nbformat_minor": 0
}
