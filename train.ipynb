{
  "cells": [
    {
      "cell_type": "markdown",
      "metadata": {
        "id": "SPN4GsCpZC4W"
      },
      "source": [
        "# Preliminary\n"
      ]
    },
    {
      "cell_type": "markdown",
      "metadata": {
        "id": "BKNTf7L4b2z7"
      },
      "source": [
        "Here we install all imports and other necessary components.\n"
      ]
    },
    {
      "cell_type": "markdown",
      "metadata": {
        "id": "V1H3gELF5H9o"
      },
      "source": [
        "## Imports\n"
      ]
    },
    {
      "cell_type": "code",
      "execution_count": 3,
      "metadata": {
        "colab": {
          "base_uri": "https://localhost:8080/"
        },
        "id": "ccCEcC7sI89U",
        "outputId": "69ccc84a-99bf-439e-fe3d-3cf05d39cd9b"
      },
      "outputs": [],
      "source": [
        "# !git clone https://github.com/WongKinYiu/yolov7.git"
      ]
    },
    {
      "cell_type": "markdown",
      "metadata": {
        "id": "QMR9UH9jPyNX"
      },
      "source": [
        "---\n"
      ]
    },
    {
      "cell_type": "markdown",
      "metadata": {},
      "source": [
        "## 240"
      ]
    },
    {
      "cell_type": "code",
      "execution_count": null,
      "metadata": {},
      "outputs": [],
      "source": [
        "!python \"./yolov7/train.py\" --epochs 300 --workers 8 --device 0 --batch-size 32 --data \"./yolo_files/config_240.yaml\" --img 240 240 --cfg \"./yolo_files/yolov7_custom_fishdetection.yaml\" --weights \"./yolo_files/best.pt\" --name train_240 --hyp \"./yolov7/data/hyp.scratch.p5.yaml\""
      ]
    },
    {
      "cell_type": "markdown",
      "metadata": {},
      "source": [
        "## edge detection"
      ]
    },
    {
      "cell_type": "code",
      "execution_count": null,
      "metadata": {},
      "outputs": [],
      "source": [
        "!python \"./yolov7/train.py\" --epochs 300 --workers 8 --device 0 --batch-size 16 --data \"./yolo_files/config_edge.yaml\" --img 640 640 --cfg \"./yolo_files/yolov7_custom_fishdetection.yaml\" --weights \"./yolo_files/best.pt\" --name train_edge --hyp \"./yolov7/data/hyp.scratch.p5.yaml\""
      ]
    },
    {
      "cell_type": "markdown",
      "metadata": {},
      "source": [
        "## hyper tuning"
      ]
    },
    {
      "cell_type": "code",
      "execution_count": null,
      "metadata": {},
      "outputs": [],
      "source": [
        "!python \"./yolov7/train.py\" --epochs 300 --workers 8 --device 0 --batch-size 16 --data \"./yolo_files/config_hyper.yaml\" --img 640 640 --cfg \"./yolo_files/yolov7_custom_fishdetection.yaml\" --weights \"./yolo_files/best.pt\" --name train_hyper --hyp \"./yolo_files/hyp.scratch.custom_fishdetection.yaml\""
      ]
    },
    {
      "cell_type": "markdown",
      "metadata": {},
      "source": [
        "## default"
      ]
    },
    {
      "cell_type": "code",
      "execution_count": null,
      "metadata": {},
      "outputs": [],
      "source": [
        "!python \"./yolov7/train.py\" --epochs 300 --workers 8 --device 0 --batch-size 16 --data \"./yolo_files/config_default.yaml\" --img 640 640 --cfg \"./yolo_files/yolov7_custom_fishdetection.yaml\" --weights \"./yolo_files/best.pt\" --name train_default --hyp \"./yolov7/data/hyp.scratch.p5.yaml\""
      ]
    }
  ],
  "metadata": {
    "colab": {
      "collapsed_sections": [
        "SPN4GsCpZC4W",
        "BOgY7NnkQO4S",
        "bB9eG7qbV6jl",
        "hfFX_FAOYTQt",
        "xdYij-suZLWQ",
        "xPNG9tgHZa18",
        "3NNPM9OqZoGw",
        "2GFUTgDpZwlJ"
      ],
      "provenance": []
    },
    "kernelspec": {
      "display_name": "cv_project",
      "language": "python",
      "name": "python3"
    },
    "language_info": {
      "codemirror_mode": {
        "name": "ipython",
        "version": 3
      },
      "file_extension": ".py",
      "mimetype": "text/x-python",
      "name": "python",
      "nbconvert_exporter": "python",
      "pygments_lexer": "ipython3",
      "version": "3.12.3"
    }
  },
  "nbformat": 4,
  "nbformat_minor": 0
}
